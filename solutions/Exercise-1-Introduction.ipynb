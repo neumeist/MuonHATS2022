{
 "cells": [
  {
   "cell_type": "markdown",
   "metadata": {},
   "source": [
    "# Step1 Getting familiar with the muon objects and nanoaod\n",
    "In this exercise we will get familiar with the muon objects in an [nanoAOD](https://twiki.cern.ch/twiki/bin/view/CMSPublic/WorkBookNanoAOD) file. We will mostly use the following file, containing simulated Drell–Yan dimuon events generated at NLO.<br>\n",
    "* DYJetsToMuMu_M-50_TuneCP5_13TeV-madgraphMLM-pythia8.root\n",
    "\n",
    "Further information and a list of those variables stored in nanoAOD can be found [here](https://cms-nanoaod-integration.web.cern.ch/integration/master-106X/mc102X_doc.html).<br>\n",
    "In nanoAOD, data are sored as arrays. \n",
    "[Uproot](https://github.com/scikit-hep/uproot#exploring-a-file) will be used to explore the nanoAOD file.\n"
   ]
  },
  {
   "cell_type": "code",
   "execution_count": 1,
   "metadata": {},
   "outputs": [],
   "source": [
    "import uproot\n",
    "import matplotlib.pyplot as plt\n",
    "import numpy as np\n",
    "import awkward as ak\n",
    "from math import pi"
   ]
  },
  {
   "cell_type": "markdown",
   "metadata": {},
   "source": [
    "First, lets take a look of the variables stored in NanoAOD. Uproot.open( ) return a ROOTDirectory similar to a python dictionary. Function key( ) prints all the dicinory keywords. The b' ahead of the names is due to ROOT object names having no encoding."
   ]
  },
  {
   "cell_type": "code",
   "execution_count": 2,
   "metadata": {},
   "outputs": [],
   "source": [
    "events=uproot.open('/cms/store/user/hats/Muon/DYJetsToMuMu_M-50_TuneCP5_13TeV-madgraphMLM-pythia8.root')['Events']\n",
    "#events=uproot.open('~/Downloads/DYJetsToMuMu_M-50_TuneCP5_13TeV-madgraphMLM-pythia8.root')['Events']"
   ]
  },
  {
   "cell_type": "code",
   "execution_count": 3,
   "metadata": {},
   "outputs": [
    {
     "data": {
      "text/plain": [
       "[b'run',\n",
       " b'luminosityBlock',\n",
       " b'event',\n",
       " b'HTXS_Higgs_pt',\n",
       " b'HTXS_Higgs_y',\n",
       " b'HTXS_stage_0',\n",
       " b'HTXS_stage_1_pTjet25',\n",
       " b'HTXS_stage_1_pTjet30',\n",
       " b'HTXS_njets25',\n",
       " b'HTXS_njets30',\n",
       " b'btagWeight_CSVV2',\n",
       " b'btagWeight_DeepCSVB',\n",
       " b'CaloMET_phi',\n",
       " b'CaloMET_pt',\n",
       " b'CaloMET_sumEt',\n",
       " b'ChsMET_phi',\n",
       " b'ChsMET_pt',\n",
       " b'ChsMET_sumEt',\n",
       " b'nElectron',\n",
       " b'Electron_deltaEtaSC',\n",
       " b'Electron_dr03EcalRecHitSumEt',\n",
       " b'Electron_dr03HcalDepth1TowerSumEt',\n",
       " b'Electron_dr03TkSumPt',\n",
       " b'Electron_dr03TkSumPtHEEP',\n",
       " b'Electron_dxy',\n",
       " b'Electron_dxyErr',\n",
       " b'Electron_dz',\n",
       " b'Electron_dzErr',\n",
       " b'Electron_eInvMinusPInv',\n",
       " b'Electron_energyErr',\n",
       " b'Electron_eta',\n",
       " b'Electron_hoe',\n",
       " b'Electron_ip3d',\n",
       " b'Electron_jetRelIso',\n",
       " b'Electron_mass',\n",
       " b'Electron_miniPFRelIso_all',\n",
       " b'Electron_miniPFRelIso_chg',\n",
       " b'Electron_mvaFall17V1Iso',\n",
       " b'Electron_mvaFall17V1noIso',\n",
       " b'Electron_mvaFall17V2Iso',\n",
       " b'Electron_mvaFall17V2noIso',\n",
       " b'Electron_pfRelIso03_all',\n",
       " b'Electron_pfRelIso03_chg',\n",
       " b'Electron_phi',\n",
       " b'Electron_pt',\n",
       " b'Electron_r9',\n",
       " b'Electron_sieie',\n",
       " b'Electron_sip3d',\n",
       " b'Electron_mvaTTH',\n",
       " b'Electron_charge',\n",
       " b'Electron_cutBased',\n",
       " b'Electron_cutBased_Fall17_V1',\n",
       " b'Electron_jetIdx',\n",
       " b'Electron_pdgId',\n",
       " b'Electron_photonIdx',\n",
       " b'Electron_tightCharge',\n",
       " b'Electron_vidNestedWPBitmap',\n",
       " b'Electron_convVeto',\n",
       " b'Electron_cutBased_HEEP',\n",
       " b'Electron_isPFcand',\n",
       " b'Electron_lostHits',\n",
       " b'Electron_mvaFall17V1Iso_WP80',\n",
       " b'Electron_mvaFall17V1Iso_WP90',\n",
       " b'Electron_mvaFall17V1Iso_WPL',\n",
       " b'Electron_mvaFall17V1noIso_WP80',\n",
       " b'Electron_mvaFall17V1noIso_WP90',\n",
       " b'Electron_mvaFall17V1noIso_WPL',\n",
       " b'Electron_mvaFall17V2Iso_WP80',\n",
       " b'Electron_mvaFall17V2Iso_WP90',\n",
       " b'Electron_mvaFall17V2Iso_WPL',\n",
       " b'Electron_mvaFall17V2noIso_WP80',\n",
       " b'Electron_mvaFall17V2noIso_WP90',\n",
       " b'Electron_mvaFall17V2noIso_WPL',\n",
       " b'nFatJet',\n",
       " b'FatJet_area',\n",
       " b'FatJet_btagCMVA',\n",
       " b'FatJet_btagCSVV2',\n",
       " b'FatJet_btagDeepB',\n",
       " b'FatJet_btagHbb',\n",
       " b'FatJet_deepTagMD_H4qvsQCD',\n",
       " b'FatJet_deepTagMD_HbbvsQCD',\n",
       " b'FatJet_deepTagMD_TvsQCD',\n",
       " b'FatJet_deepTagMD_WvsQCD',\n",
       " b'FatJet_deepTagMD_ZHbbvsQCD',\n",
       " b'FatJet_deepTagMD_ZHccvsQCD',\n",
       " b'FatJet_deepTagMD_ZbbvsQCD',\n",
       " b'FatJet_deepTagMD_ZvsQCD',\n",
       " b'FatJet_deepTagMD_bbvsLight',\n",
       " b'FatJet_deepTagMD_ccvsLight',\n",
       " b'FatJet_deepTag_TvsQCD',\n",
       " b'FatJet_deepTag_WvsQCD',\n",
       " b'FatJet_deepTag_ZvsQCD',\n",
       " b'FatJet_eta',\n",
       " b'FatJet_mass',\n",
       " b'FatJet_msoftdrop',\n",
       " b'FatJet_n2b1',\n",
       " b'FatJet_n3b1',\n",
       " b'FatJet_phi',\n",
       " b'FatJet_pt',\n",
       " b'FatJet_rawFactor',\n",
       " b'FatJet_tau1',\n",
       " b'FatJet_tau2',\n",
       " b'FatJet_tau3',\n",
       " b'FatJet_tau4',\n",
       " b'FatJet_jetId',\n",
       " b'FatJet_subJetIdx1',\n",
       " b'FatJet_subJetIdx2',\n",
       " b'nGenJetAK8',\n",
       " b'GenJetAK8_eta',\n",
       " b'GenJetAK8_mass',\n",
       " b'GenJetAK8_phi',\n",
       " b'GenJetAK8_pt',\n",
       " b'nGenJet',\n",
       " b'GenJet_eta',\n",
       " b'GenJet_mass',\n",
       " b'GenJet_phi',\n",
       " b'GenJet_pt',\n",
       " b'nGenPart',\n",
       " b'GenPart_eta',\n",
       " b'GenPart_mass',\n",
       " b'GenPart_phi',\n",
       " b'GenPart_pt',\n",
       " b'GenPart_genPartIdxMother',\n",
       " b'GenPart_pdgId',\n",
       " b'GenPart_status',\n",
       " b'GenPart_statusFlags',\n",
       " b'nSubGenJetAK8',\n",
       " b'SubGenJetAK8_eta',\n",
       " b'SubGenJetAK8_mass',\n",
       " b'SubGenJetAK8_phi',\n",
       " b'SubGenJetAK8_pt',\n",
       " b'Generator_binvar',\n",
       " b'Generator_scalePDF',\n",
       " b'Generator_weight',\n",
       " b'Generator_x1',\n",
       " b'Generator_x2',\n",
       " b'Generator_xpdf1',\n",
       " b'Generator_xpdf2',\n",
       " b'Generator_id1',\n",
       " b'Generator_id2',\n",
       " b'nGenVisTau',\n",
       " b'GenVisTau_eta',\n",
       " b'GenVisTau_mass',\n",
       " b'GenVisTau_phi',\n",
       " b'GenVisTau_pt',\n",
       " b'GenVisTau_charge',\n",
       " b'GenVisTau_genPartIdxMother',\n",
       " b'GenVisTau_status',\n",
       " b'genWeight',\n",
       " b'LHEWeight_originalXWGTUP',\n",
       " b'nLHEPdfWeight',\n",
       " b'LHEPdfWeight',\n",
       " b'nLHEScaleWeight',\n",
       " b'LHEScaleWeight',\n",
       " b'nPSWeight',\n",
       " b'PSWeight',\n",
       " b'nIsoTrack',\n",
       " b'IsoTrack_dxy',\n",
       " b'IsoTrack_dz',\n",
       " b'IsoTrack_eta',\n",
       " b'IsoTrack_pfRelIso03_all',\n",
       " b'IsoTrack_pfRelIso03_chg',\n",
       " b'IsoTrack_phi',\n",
       " b'IsoTrack_pt',\n",
       " b'IsoTrack_miniPFRelIso_all',\n",
       " b'IsoTrack_miniPFRelIso_chg',\n",
       " b'IsoTrack_fromPV',\n",
       " b'IsoTrack_pdgId',\n",
       " b'IsoTrack_isHighPurityTrack',\n",
       " b'IsoTrack_isPFcand',\n",
       " b'IsoTrack_isFromLostTrack',\n",
       " b'nJet',\n",
       " b'Jet_area',\n",
       " b'Jet_btagCMVA',\n",
       " b'Jet_btagCSVV2',\n",
       " b'Jet_btagDeepB',\n",
       " b'Jet_btagDeepC',\n",
       " b'Jet_btagDeepFlavB',\n",
       " b'Jet_chEmEF',\n",
       " b'Jet_chHEF',\n",
       " b'Jet_eta',\n",
       " b'Jet_mass',\n",
       " b'Jet_muEF',\n",
       " b'Jet_neEmEF',\n",
       " b'Jet_neHEF',\n",
       " b'Jet_phi',\n",
       " b'Jet_pt',\n",
       " b'Jet_qgl',\n",
       " b'Jet_rawFactor',\n",
       " b'Jet_bRegCorr',\n",
       " b'Jet_bRegRes',\n",
       " b'Jet_electronIdx1',\n",
       " b'Jet_electronIdx2',\n",
       " b'Jet_jetId',\n",
       " b'Jet_muonIdx1',\n",
       " b'Jet_muonIdx2',\n",
       " b'Jet_nConstituents',\n",
       " b'Jet_nElectrons',\n",
       " b'Jet_nMuons',\n",
       " b'Jet_puId',\n",
       " b'LHE_HT',\n",
       " b'LHE_HTIncoming',\n",
       " b'LHE_Vpt',\n",
       " b'LHE_Njets',\n",
       " b'LHE_Nb',\n",
       " b'LHE_Nc',\n",
       " b'LHE_Nuds',\n",
       " b'LHE_Nglu',\n",
       " b'LHE_NpNLO',\n",
       " b'LHE_NpLO',\n",
       " b'nLHEPart',\n",
       " b'LHEPart_pt',\n",
       " b'LHEPart_eta',\n",
       " b'LHEPart_phi',\n",
       " b'LHEPart_mass',\n",
       " b'LHEPart_pdgId',\n",
       " b'GenMET_phi',\n",
       " b'GenMET_pt',\n",
       " b'MET_MetUnclustEnUpDeltaX',\n",
       " b'MET_MetUnclustEnUpDeltaY',\n",
       " b'MET_phi',\n",
       " b'MET_pt',\n",
       " b'MET_sumEt',\n",
       " b'nMuon',\n",
       " b'Muon_dxy',\n",
       " b'Muon_dxyErr',\n",
       " b'Muon_dz',\n",
       " b'Muon_dzErr',\n",
       " b'Muon_eta',\n",
       " b'Muon_ip3d',\n",
       " b'Muon_jetRelIso',\n",
       " b'Muon_mass',\n",
       " b'Muon_miniPFRelIso_all',\n",
       " b'Muon_miniPFRelIso_chg',\n",
       " b'Muon_pfRelIso03_all',\n",
       " b'Muon_pfRelIso03_chg',\n",
       " b'Muon_pfRelIso04_all',\n",
       " b'Muon_phi',\n",
       " b'Muon_pt',\n",
       " b'Muon_ptErr',\n",
       " b'Muon_segmentComp',\n",
       " b'Muon_sip3d',\n",
       " b'Muon_mvaTTH',\n",
       " b'Muon_charge',\n",
       " b'Muon_jetIdx',\n",
       " b'Muon_nStations',\n",
       " b'Muon_nTrackerLayers',\n",
       " b'Muon_pdgId',\n",
       " b'Muon_tightCharge',\n",
       " b'Muon_highPtId',\n",
       " b'Muon_inTimeMuon',\n",
       " b'Muon_isGlobal',\n",
       " b'Muon_isPFcand',\n",
       " b'Muon_isTracker',\n",
       " b'Muon_mediumId',\n",
       " b'Muon_mediumPromptId',\n",
       " b'Muon_miniIsoId',\n",
       " b'Muon_multiIsoId',\n",
       " b'Muon_mvaId',\n",
       " b'Muon_pfIsoId',\n",
       " b'Muon_softId',\n",
       " b'Muon_softMvaId',\n",
       " b'Muon_tightId',\n",
       " b'Muon_tkIsoId',\n",
       " b'Muon_triggerIdLoose',\n",
       " b'nPhoton',\n",
       " b'Photon_energyErr',\n",
       " b'Photon_eta',\n",
       " b'Photon_hoe',\n",
       " b'Photon_mass',\n",
       " b'Photon_mvaID',\n",
       " b'Photon_mvaIDV1',\n",
       " b'Photon_pfRelIso03_all',\n",
       " b'Photon_pfRelIso03_chg',\n",
       " b'Photon_phi',\n",
       " b'Photon_pt',\n",
       " b'Photon_r9',\n",
       " b'Photon_sieie',\n",
       " b'Photon_charge',\n",
       " b'Photon_cutBasedBitmap',\n",
       " b'Photon_cutBasedV1Bitmap',\n",
       " b'Photon_electronIdx',\n",
       " b'Photon_jetIdx',\n",
       " b'Photon_pdgId',\n",
       " b'Photon_vidNestedWPBitmap',\n",
       " b'Photon_electronVeto',\n",
       " b'Photon_isScEtaEB',\n",
       " b'Photon_isScEtaEE',\n",
       " b'Photon_mvaID_WP80',\n",
       " b'Photon_mvaID_WP90',\n",
       " b'Photon_pixelSeed',\n",
       " b'Pileup_nTrueInt',\n",
       " b'Pileup_nPU',\n",
       " b'Pileup_sumEOOT',\n",
       " b'Pileup_sumLOOT',\n",
       " b'PuppiMET_phi',\n",
       " b'PuppiMET_pt',\n",
       " b'PuppiMET_sumEt',\n",
       " b'RawMET_phi',\n",
       " b'RawMET_pt',\n",
       " b'RawMET_sumEt',\n",
       " b'fixedGridRhoFastjetAll',\n",
       " b'fixedGridRhoFastjetCentralCalo',\n",
       " b'fixedGridRhoFastjetCentralNeutral',\n",
       " b'nGenDressedLepton',\n",
       " b'GenDressedLepton_eta',\n",
       " b'GenDressedLepton_mass',\n",
       " b'GenDressedLepton_phi',\n",
       " b'GenDressedLepton_pt',\n",
       " b'GenDressedLepton_pdgId',\n",
       " b'nSoftActivityJet',\n",
       " b'SoftActivityJet_eta',\n",
       " b'SoftActivityJet_phi',\n",
       " b'SoftActivityJet_pt',\n",
       " b'SoftActivityJetHT',\n",
       " b'SoftActivityJetHT10',\n",
       " b'SoftActivityJetHT2',\n",
       " b'SoftActivityJetHT5',\n",
       " b'SoftActivityJetNjets10',\n",
       " b'SoftActivityJetNjets2',\n",
       " b'SoftActivityJetNjets5',\n",
       " b'nSubJet',\n",
       " b'SubJet_btagCMVA',\n",
       " b'SubJet_btagCSVV2',\n",
       " b'SubJet_btagDeepB',\n",
       " b'SubJet_eta',\n",
       " b'SubJet_mass',\n",
       " b'SubJet_n2b1',\n",
       " b'SubJet_n3b1',\n",
       " b'SubJet_phi',\n",
       " b'SubJet_pt',\n",
       " b'SubJet_rawFactor',\n",
       " b'SubJet_tau1',\n",
       " b'SubJet_tau2',\n",
       " b'SubJet_tau3',\n",
       " b'SubJet_tau4',\n",
       " b'nTau',\n",
       " b'Tau_chargedIso',\n",
       " b'Tau_dxy',\n",
       " b'Tau_dz',\n",
       " b'Tau_eta',\n",
       " b'Tau_leadTkDeltaEta',\n",
       " b'Tau_leadTkDeltaPhi',\n",
       " b'Tau_leadTkPtOverTauPt',\n",
       " b'Tau_mass',\n",
       " b'Tau_neutralIso',\n",
       " b'Tau_phi',\n",
       " b'Tau_photonsOutsideSignalCone',\n",
       " b'Tau_pt',\n",
       " b'Tau_puCorr',\n",
       " b'Tau_rawAntiEle',\n",
       " b'Tau_rawIso',\n",
       " b'Tau_rawIsodR03',\n",
       " b'Tau_rawMVAnewDM2017v2',\n",
       " b'Tau_rawMVAoldDM',\n",
       " b'Tau_rawMVAoldDM2017v1',\n",
       " b'Tau_rawMVAoldDM2017v2',\n",
       " b'Tau_rawMVAoldDMdR032017v2',\n",
       " b'Tau_charge',\n",
       " b'Tau_decayMode',\n",
       " b'Tau_jetIdx',\n",
       " b'Tau_rawAntiEleCat',\n",
       " b'Tau_idAntiEle',\n",
       " b'Tau_idAntiMu',\n",
       " b'Tau_idDecayMode',\n",
       " b'Tau_idDecayModeNewDMs',\n",
       " b'Tau_idMVAnewDM2017v2',\n",
       " b'Tau_idMVAoldDM',\n",
       " b'Tau_idMVAoldDM2017v1',\n",
       " b'Tau_idMVAoldDM2017v2',\n",
       " b'Tau_idMVAoldDMdR032017v2',\n",
       " b'TkMET_phi',\n",
       " b'TkMET_pt',\n",
       " b'TkMET_sumEt',\n",
       " b'nTrigObj',\n",
       " b'TrigObj_pt',\n",
       " b'TrigObj_eta',\n",
       " b'TrigObj_phi',\n",
       " b'TrigObj_l1pt',\n",
       " b'TrigObj_l1pt_2',\n",
       " b'TrigObj_l2pt',\n",
       " b'TrigObj_id',\n",
       " b'TrigObj_l1iso',\n",
       " b'TrigObj_l1charge',\n",
       " b'TrigObj_filterBits',\n",
       " b'genTtbarId',\n",
       " b'nOtherPV',\n",
       " b'OtherPV_z',\n",
       " b'PV_ndof',\n",
       " b'PV_x',\n",
       " b'PV_y',\n",
       " b'PV_z',\n",
       " b'PV_chi2',\n",
       " b'PV_score',\n",
       " b'PV_npvs',\n",
       " b'PV_npvsGood',\n",
       " b'nSV',\n",
       " b'SV_dlen',\n",
       " b'SV_dlenSig',\n",
       " b'SV_pAngle',\n",
       " b'Electron_genPartIdx',\n",
       " b'Electron_genPartFlav',\n",
       " b'GenJetAK8_partonFlavour',\n",
       " b'GenJetAK8_hadronFlavour',\n",
       " b'GenJet_partonFlavour',\n",
       " b'GenJet_hadronFlavour',\n",
       " b'Jet_genJetIdx',\n",
       " b'Jet_hadronFlavour',\n",
       " b'Jet_partonFlavour',\n",
       " b'Muon_genPartIdx',\n",
       " b'Muon_genPartFlav',\n",
       " b'Photon_genPartIdx',\n",
       " b'Photon_genPartFlav',\n",
       " b'MET_fiducialGenPhi',\n",
       " b'MET_fiducialGenPt',\n",
       " b'Electron_cleanmask',\n",
       " b'Jet_cleanmask',\n",
       " b'Muon_cleanmask',\n",
       " b'Photon_cleanmask',\n",
       " b'Tau_cleanmask',\n",
       " b'SV_chi2',\n",
       " b'SV_eta',\n",
       " b'SV_mass',\n",
       " b'SV_ndof',\n",
       " b'SV_phi',\n",
       " b'SV_pt',\n",
       " b'SV_x',\n",
       " b'SV_y',\n",
       " b'SV_z',\n",
       " b'Tau_genPartIdx',\n",
       " b'Tau_genPartFlav',\n",
       " b'L1simulation_step',\n",
       " b'HLTriggerFirstPath',\n",
       " b'HLT_AK8PFJet360_TrimMass30',\n",
       " b'HLT_AK8PFJet380_TrimMass30',\n",
       " b'HLT_AK8PFJet400_TrimMass30',\n",
       " b'HLT_AK8PFJet420_TrimMass30',\n",
       " b'HLT_AK8PFHT750_TrimMass50',\n",
       " b'HLT_AK8PFHT800_TrimMass50',\n",
       " b'HLT_AK8PFHT850_TrimMass50',\n",
       " b'HLT_AK8PFHT900_TrimMass50',\n",
       " b'HLT_CaloJet500_NoJetID',\n",
       " b'HLT_CaloJet550_NoJetID',\n",
       " b'HLT_DoubleMu5_Upsilon_DoubleEle3_CaloIdL_TrackIdL',\n",
       " b'HLT_DoubleMu3_DoubleEle7p5_CaloIdL_TrackIdL_Upsilon',\n",
       " b'HLT_Trimuon5_3p5_2_Upsilon_Muon',\n",
       " b'HLT_TrimuonOpen_5_3p5_2_Upsilon_Muon',\n",
       " b'HLT_DoubleEle25_CaloIdL_MW',\n",
       " b'HLT_DoubleEle27_CaloIdL_MW',\n",
       " b'HLT_DoubleEle33_CaloIdL_MW',\n",
       " b'HLT_DoubleEle24_eta2p1_WPTight_Gsf',\n",
       " b'HLT_DoubleEle8_CaloIdM_TrackIdM_Mass8_DZ_PFHT350',\n",
       " b'HLT_DoubleEle8_CaloIdM_TrackIdM_Mass8_PFHT350',\n",
       " b'HLT_Ele27_Ele37_CaloIdL_MW',\n",
       " b'HLT_Mu27_Ele37_CaloIdL_MW',\n",
       " b'HLT_Mu37_Ele27_CaloIdL_MW',\n",
       " b'HLT_Mu37_TkMu27',\n",
       " b'HLT_DoubleMu4_3_Bs',\n",
       " b'HLT_DoubleMu4_3_Jpsi',\n",
       " b'HLT_DoubleMu4_JpsiTrk_Displaced',\n",
       " b'HLT_DoubleMu4_LowMassNonResonantTrk_Displaced',\n",
       " b'HLT_DoubleMu3_Trk_Tau3mu',\n",
       " b'HLT_DoubleMu3_TkMu_DsTau3Mu',\n",
       " b'HLT_DoubleMu4_PsiPrimeTrk_Displaced',\n",
       " b'HLT_DoubleMu4_Mass3p8_DZ_PFHT350',\n",
       " b'HLT_Mu3_PFJet40',\n",
       " b'HLT_Mu7p5_L2Mu2_Jpsi',\n",
       " b'HLT_Mu7p5_L2Mu2_Upsilon',\n",
       " b'HLT_Mu7p5_Track2_Jpsi',\n",
       " b'HLT_Mu7p5_Track3p5_Jpsi',\n",
       " b'HLT_Mu7p5_Track7_Jpsi',\n",
       " b'HLT_Mu7p5_Track2_Upsilon',\n",
       " b'HLT_Mu7p5_Track3p5_Upsilon',\n",
       " b'HLT_Mu7p5_Track7_Upsilon',\n",
       " b'HLT_Mu3_L1SingleMu5orSingleMu7',\n",
       " b'HLT_DoublePhoton33_CaloIdL',\n",
       " b'HLT_DoublePhoton70',\n",
       " b'HLT_DoublePhoton85',\n",
       " b'HLT_Ele20_WPTight_Gsf',\n",
       " b'HLT_Ele15_WPLoose_Gsf',\n",
       " b'HLT_Ele17_WPLoose_Gsf',\n",
       " b'HLT_Ele20_WPLoose_Gsf',\n",
       " b'HLT_Ele20_eta2p1_WPLoose_Gsf',\n",
       " b'HLT_DiEle27_WPTightCaloOnly_L1DoubleEG',\n",
       " b'HLT_Ele27_WPTight_Gsf',\n",
       " b'HLT_Ele28_WPTight_Gsf',\n",
       " b'HLT_Ele30_WPTight_Gsf',\n",
       " b'HLT_Ele32_WPTight_Gsf',\n",
       " b'HLT_Ele35_WPTight_Gsf',\n",
       " b'HLT_Ele35_WPTight_Gsf_L1EGMT',\n",
       " b'HLT_Ele38_WPTight_Gsf',\n",
       " b'HLT_Ele40_WPTight_Gsf',\n",
       " b'HLT_Ele32_WPTight_Gsf_L1DoubleEG',\n",
       " b'HLT_Ele24_eta2p1_WPTight_Gsf_LooseChargedIsoPFTau30_eta2p1_CrossL1',\n",
       " b'HLT_Ele24_eta2p1_WPTight_Gsf_LooseChargedIsoPFTauHPS30_eta2p1_CrossL1',\n",
       " b'HLT_Ele24_eta2p1_WPTight_Gsf_MediumChargedIsoPFTauHPS30_eta2p1_CrossL1',\n",
       " b'HLT_Ele24_eta2p1_WPTight_Gsf_TightChargedIsoPFTauHPS30_eta2p1_CrossL1',\n",
       " b'HLT_Ele24_eta2p1_WPTight_Gsf_LooseChargedIsoPFTauHPS30_eta2p1_TightID_CrossL1',\n",
       " b'HLT_Ele24_eta2p1_WPTight_Gsf_MediumChargedIsoPFTauHPS30_eta2p1_TightID_CrossL1',\n",
       " b'HLT_Ele24_eta2p1_WPTight_Gsf_TightChargedIsoPFTauHPS30_eta2p1_TightID_CrossL1',\n",
       " b'HLT_HT450_Beamspot',\n",
       " b'HLT_HT300_Beamspot',\n",
       " b'HLT_ZeroBias_Beamspot',\n",
       " b'HLT_IsoMu20_eta2p1_LooseChargedIsoPFTau27_eta2p1_CrossL1',\n",
       " b'HLT_IsoMu20_eta2p1_LooseChargedIsoPFTauHPS27_eta2p1_CrossL1',\n",
       " b'HLT_IsoMu20_eta2p1_MediumChargedIsoPFTauHPS27_eta2p1_CrossL1',\n",
       " b'HLT_IsoMu20_eta2p1_TightChargedIsoPFTauHPS27_eta2p1_CrossL1',\n",
       " b'HLT_IsoMu20_eta2p1_LooseChargedIsoPFTauHPS27_eta2p1_TightID_CrossL1',\n",
       " b'HLT_IsoMu20_eta2p1_MediumChargedIsoPFTauHPS27_eta2p1_TightID_CrossL1',\n",
       " b'HLT_IsoMu20_eta2p1_TightChargedIsoPFTauHPS27_eta2p1_TightID_CrossL1',\n",
       " b'HLT_IsoMu24_eta2p1_MediumChargedIsoPFTau35_Trk1_eta2p1_Reg_CrossL1',\n",
       " b'HLT_IsoMu24_eta2p1_MediumChargedIsoPFTau35_Trk1_TightID_eta2p1_Reg_CrossL1',\n",
       " b'HLT_IsoMu24_eta2p1_TightChargedIsoPFTau35_Trk1_eta2p1_Reg_CrossL1',\n",
       " b'HLT_IsoMu24_eta2p1_TightChargedIsoPFTau35_Trk1_TightID_eta2p1_Reg_CrossL1',\n",
       " b'HLT_IsoMu24_eta2p1_TightChargedIsoPFTauHPS35_Trk1_eta2p1_Reg_CrossL1',\n",
       " b'HLT_IsoMu24_eta2p1_MediumChargedIsoPFTauHPS35_Trk1_TightID_eta2p1_Reg_CrossL1',\n",
       " b'HLT_IsoMu24_eta2p1_TightChargedIsoPFTauHPS35_Trk1_TightID_eta2p1_Reg_CrossL1',\n",
       " b'HLT_IsoMu24_eta2p1_MediumChargedIsoPFTauHPS35_Trk1_eta2p1_Reg_CrossL1',\n",
       " b'HLT_IsoMu24_eta2p1_MediumChargedIsoPFTauHPS30_Trk1_eta2p1_Reg_CrossL1',\n",
       " b'HLT_IsoMu27_LooseChargedIsoPFTau20_Trk1_eta2p1_SingleL1',\n",
       " b'HLT_IsoMu27_LooseChargedIsoPFTauHPS20_Trk1_eta2p1_SingleL1',\n",
       " b'HLT_IsoMu27_MediumChargedIsoPFTauHPS20_Trk1_eta2p1_SingleL1',\n",
       " b'HLT_IsoMu27_TightChargedIsoPFTauHPS20_Trk1_eta2p1_SingleL1',\n",
       " b'HLT_IsoMu20',\n",
       " b'HLT_IsoMu24',\n",
       " b'HLT_IsoMu24_eta2p1',\n",
       " b'HLT_IsoMu27',\n",
       " b'HLT_IsoMu30',\n",
       " b'HLT_UncorrectedJetE30_NoBPTX',\n",
       " b'HLT_UncorrectedJetE30_NoBPTX3BX',\n",
       " b'HLT_UncorrectedJetE60_NoBPTX3BX',\n",
       " b'HLT_UncorrectedJetE70_NoBPTX3BX',\n",
       " b'HLT_L1SingleMu18',\n",
       " b'HLT_L1SingleMu25',\n",
       " b'HLT_L2Mu10',\n",
       " b'HLT_L2Mu10_NoVertex_NoBPTX3BX',\n",
       " b'HLT_L2Mu10_NoVertex_NoBPTX',\n",
       " b'HLT_L2Mu45_NoVertex_3Sta_NoBPTX3BX',\n",
       " b'HLT_L2Mu40_NoVertex_3Sta_NoBPTX3BX',\n",
       " b'HLT_L2Mu50',\n",
       " b'HLT_L2Mu23NoVtx_2Cha',\n",
       " b'HLT_L2Mu23NoVtx_2Cha_CosmicSeed',\n",
       " b'HLT_DoubleL2Mu30NoVtx_2Cha_CosmicSeed_Eta2p4',\n",
       " b'HLT_DoubleL2Mu30NoVtx_2Cha_Eta2p4',\n",
       " b'HLT_DoubleL2Mu50',\n",
       " b'HLT_DoubleL2Mu23NoVtx_2Cha_CosmicSeed',\n",
       " b'HLT_DoubleL2Mu23NoVtx_2Cha_CosmicSeed_NoL2Matched',\n",
       " b'HLT_DoubleL2Mu25NoVtx_2Cha_CosmicSeed',\n",
       " b'HLT_DoubleL2Mu25NoVtx_2Cha_CosmicSeed_NoL2Matched',\n",
       " b'HLT_DoubleL2Mu25NoVtx_2Cha_CosmicSeed_Eta2p4',\n",
       " b'HLT_DoubleL2Mu23NoVtx_2Cha',\n",
       " b'HLT_DoubleL2Mu23NoVtx_2Cha_NoL2Matched',\n",
       " b'HLT_DoubleL2Mu25NoVtx_2Cha',\n",
       " b'HLT_DoubleL2Mu25NoVtx_2Cha_NoL2Matched',\n",
       " b'HLT_DoubleL2Mu25NoVtx_2Cha_Eta2p4',\n",
       " b'HLT_Mu17_TrkIsoVVL_Mu8_TrkIsoVVL',\n",
       " b'HLT_Mu19_TrkIsoVVL_Mu9_TrkIsoVVL',\n",
       " b'HLT_Mu17_TrkIsoVVL_Mu8_TrkIsoVVL_DZ',\n",
       " b'HLT_Mu19_TrkIsoVVL_Mu9_TrkIsoVVL_DZ',\n",
       " b'HLT_Mu17_TrkIsoVVL_Mu8_TrkIsoVVL_DZ_Mass8',\n",
       " b'HLT_Mu19_TrkIsoVVL_Mu9_TrkIsoVVL_DZ_Mass8',\n",
       " b'HLT_Mu17_TrkIsoVVL_Mu8_TrkIsoVVL_DZ_Mass3p8',\n",
       " b'HLT_Mu19_TrkIsoVVL_Mu9_TrkIsoVVL_DZ_Mass3p8',\n",
       " b'HLT_Mu25_TkMu0_Onia',\n",
       " b'HLT_Mu30_TkMu0_Psi',\n",
       " b'HLT_Mu30_TkMu0_Upsilon',\n",
       " b'HLT_Mu20_TkMu0_Phi',\n",
       " b'HLT_Mu25_TkMu0_Phi',\n",
       " b'HLT_Mu12',\n",
       " b'HLT_Mu15',\n",
       " b'HLT_Mu20',\n",
       " b'HLT_Mu27',\n",
       " b'HLT_Mu50',\n",
       " b'HLT_Mu55',\n",
       " b'HLT_OldMu100',\n",
       " b'HLT_TkMu100',\n",
       " b'HLT_DiPFJet15_NoCaloMatched',\n",
       " b'HLT_DiPFJet25_NoCaloMatched',\n",
       " b'HLT_DiPFJet15_FBEta3_NoCaloMatched',\n",
       " b'HLT_DiPFJet25_FBEta3_NoCaloMatched',\n",
       " b'HLT_DiPFJetAve40',\n",
       " b'HLT_DiPFJetAve60',\n",
       " b'HLT_DiPFJetAve80',\n",
       " b'HLT_DiPFJetAve140',\n",
       " b'HLT_DiPFJetAve200',\n",
       " b'HLT_DiPFJetAve260',\n",
       " b'HLT_DiPFJetAve320',\n",
       " b'HLT_DiPFJetAve400',\n",
       " b'HLT_DiPFJetAve500',\n",
       " b'HLT_DiPFJetAve15_HFJEC',\n",
       " b'HLT_DiPFJetAve25_HFJEC',\n",
       " b'HLT_DiPFJetAve35_HFJEC',\n",
       " b'HLT_DiPFJetAve60_HFJEC',\n",
       " b'HLT_DiPFJetAve80_HFJEC',\n",
       " b'HLT_DiPFJetAve100_HFJEC',\n",
       " b'HLT_DiPFJetAve160_HFJEC',\n",
       " b'HLT_DiPFJetAve220_HFJEC',\n",
       " b'HLT_DiPFJetAve300_HFJEC',\n",
       " b'HLT_AK8PFJet15',\n",
       " b'HLT_AK8PFJet25',\n",
       " b'HLT_AK8PFJet40',\n",
       " b'HLT_AK8PFJet60',\n",
       " b'HLT_AK8PFJet80',\n",
       " b'HLT_AK8PFJet140',\n",
       " b'HLT_AK8PFJet200',\n",
       " b'HLT_AK8PFJet260',\n",
       " b'HLT_AK8PFJet320',\n",
       " b'HLT_AK8PFJet400',\n",
       " b'HLT_AK8PFJet450',\n",
       " b'HLT_AK8PFJet500',\n",
       " b'HLT_AK8PFJet550',\n",
       " b'HLT_PFJet15',\n",
       " b'HLT_PFJet25',\n",
       " b'HLT_PFJet40',\n",
       " b'HLT_PFJet60',\n",
       " b'HLT_PFJet80',\n",
       " b'HLT_PFJet140',\n",
       " b'HLT_PFJet200',\n",
       " b'HLT_PFJet260',\n",
       " b'HLT_PFJet320',\n",
       " b'HLT_PFJet400',\n",
       " b'HLT_PFJet450',\n",
       " b'HLT_PFJet500',\n",
       " b'HLT_PFJet550',\n",
       " b'HLT_PFJetFwd15',\n",
       " b'HLT_PFJetFwd25',\n",
       " b'HLT_PFJetFwd40',\n",
       " b'HLT_PFJetFwd60',\n",
       " b'HLT_PFJetFwd80',\n",
       " b'HLT_PFJetFwd140',\n",
       " b'HLT_PFJetFwd200',\n",
       " b'HLT_PFJetFwd260',\n",
       " b'HLT_PFJetFwd320',\n",
       " b'HLT_PFJetFwd400',\n",
       " b'HLT_PFJetFwd450',\n",
       " b'HLT_PFJetFwd500',\n",
       " b'HLT_AK8PFJetFwd15',\n",
       " b'HLT_AK8PFJetFwd25',\n",
       " b'HLT_AK8PFJetFwd40',\n",
       " b'HLT_AK8PFJetFwd60',\n",
       " b'HLT_AK8PFJetFwd80',\n",
       " b'HLT_AK8PFJetFwd140',\n",
       " b'HLT_AK8PFJetFwd200',\n",
       " b'HLT_AK8PFJetFwd260',\n",
       " b'HLT_AK8PFJetFwd320',\n",
       " b'HLT_AK8PFJetFwd400',\n",
       " b'HLT_AK8PFJetFwd450',\n",
       " b'HLT_AK8PFJetFwd500',\n",
       " b'HLT_PFHT180',\n",
       " b'HLT_PFHT250',\n",
       " b'HLT_PFHT370',\n",
       " b'HLT_PFHT430',\n",
       " b'HLT_PFHT510',\n",
       " b'HLT_PFHT590',\n",
       " b'HLT_PFHT680',\n",
       " b'HLT_PFHT780',\n",
       " b'HLT_PFHT890',\n",
       " b'HLT_PFHT1050',\n",
       " b'HLT_PFHT500_PFMET100_PFMHT100_IDTight',\n",
       " b'HLT_PFHT500_PFMET110_PFMHT110_IDTight',\n",
       " b'HLT_PFHT700_PFMET85_PFMHT85_IDTight',\n",
       " b'HLT_PFHT700_PFMET95_PFMHT95_IDTight',\n",
       " b'HLT_PFHT800_PFMET75_PFMHT75_IDTight',\n",
       " b'HLT_PFHT800_PFMET85_PFMHT85_IDTight',\n",
       " b'HLT_PFMET110_PFMHT110_IDTight',\n",
       " b'HLT_PFMET120_PFMHT120_IDTight',\n",
       " b'HLT_PFMET130_PFMHT130_IDTight',\n",
       " b'HLT_PFMET140_PFMHT140_IDTight',\n",
       " b'HLT_PFMET100_PFMHT100_IDTight_CaloBTagDeepCSV_3p1',\n",
       " b'HLT_PFMET110_PFMHT110_IDTight_CaloBTagDeepCSV_3p1',\n",
       " b'HLT_PFMET120_PFMHT120_IDTight_CaloBTagDeepCSV_3p1',\n",
       " b'HLT_PFMET130_PFMHT130_IDTight_CaloBTagDeepCSV_3p1',\n",
       " b'HLT_PFMET140_PFMHT140_IDTight_CaloBTagDeepCSV_3p1',\n",
       " b'HLT_PFMET120_PFMHT120_IDTight_PFHT60',\n",
       " b'HLT_PFMETNoMu120_PFMHTNoMu120_IDTight_PFHT60',\n",
       " b'HLT_PFMETTypeOne120_PFMHT120_IDTight_PFHT60',\n",
       " b'HLT_PFMETTypeOne110_PFMHT110_IDTight',\n",
       " b'HLT_PFMETTypeOne120_PFMHT120_IDTight',\n",
       " b'HLT_PFMETTypeOne130_PFMHT130_IDTight',\n",
       " b'HLT_PFMETTypeOne140_PFMHT140_IDTight',\n",
       " b'HLT_PFMETNoMu110_PFMHTNoMu110_IDTight',\n",
       " b'HLT_PFMETNoMu120_PFMHTNoMu120_IDTight',\n",
       " b'HLT_PFMETNoMu130_PFMHTNoMu130_IDTight',\n",
       " b'HLT_PFMETNoMu140_PFMHTNoMu140_IDTight',\n",
       " b'HLT_MonoCentralPFJet80_PFMETNoMu110_PFMHTNoMu110_IDTight',\n",
       " b'HLT_MonoCentralPFJet80_PFMETNoMu120_PFMHTNoMu120_IDTight',\n",
       " b'HLT_MonoCentralPFJet80_PFMETNoMu130_PFMHTNoMu130_IDTight',\n",
       " b'HLT_MonoCentralPFJet80_PFMETNoMu140_PFMHTNoMu140_IDTight',\n",
       " b'HLT_L1ETMHadSeeds',\n",
       " b'HLT_CaloMHT90',\n",
       " b'HLT_CaloMET80_NotCleaned',\n",
       " b'HLT_CaloMET90_NotCleaned',\n",
       " b'HLT_CaloMET100_NotCleaned',\n",
       " b'HLT_CaloMET110_NotCleaned',\n",
       " b'HLT_CaloMET250_NotCleaned',\n",
       " b'HLT_CaloMET70_HBHECleaned',\n",
       " b'HLT_CaloMET80_HBHECleaned',\n",
       " b'HLT_CaloMET90_HBHECleaned',\n",
       " b'HLT_CaloMET100_HBHECleaned',\n",
       " b'HLT_CaloMET250_HBHECleaned',\n",
       " b'HLT_CaloMET300_HBHECleaned',\n",
       " b'HLT_CaloMET350_HBHECleaned',\n",
       " b'HLT_PFMET200_NotCleaned',\n",
       " b'HLT_PFMET200_HBHECleaned',\n",
       " b'HLT_PFMET250_HBHECleaned',\n",
       " b'HLT_PFMET300_HBHECleaned',\n",
       " b'HLT_PFMET200_HBHE_BeamHaloCleaned',\n",
       " b'HLT_PFMETTypeOne200_HBHE_BeamHaloCleaned',\n",
       " b'HLT_MET105_IsoTrk50',\n",
       " b'HLT_MET120_IsoTrk50',\n",
       " b'HLT_SingleJet30_Mu12_SinglePFJet40',\n",
       " b'HLT_Mu12_DoublePFJets40_CaloBTagDeepCSV_p71',\n",
       " b'HLT_Mu12_DoublePFJets100_CaloBTagDeepCSV_p71',\n",
       " b'HLT_Mu12_DoublePFJets200_CaloBTagDeepCSV_p71',\n",
       " b'HLT_Mu12_DoublePFJets350_CaloBTagDeepCSV_p71',\n",
       " b'HLT_Mu12_DoublePFJets40MaxDeta1p6_DoubleCaloBTagDeepCSV_p71',\n",
       " b'HLT_Mu12_DoublePFJets54MaxDeta1p6_DoubleCaloBTagDeepCSV_p71',\n",
       " b'HLT_Mu12_DoublePFJets62MaxDeta1p6_DoubleCaloBTagDeepCSV_p71',\n",
       " b'HLT_DoublePFJets40_CaloBTagDeepCSV_p71',\n",
       " b'HLT_DoublePFJets100_CaloBTagDeepCSV_p71',\n",
       " b'HLT_DoublePFJets200_CaloBTagDeepCSV_p71',\n",
       " b'HLT_DoublePFJets350_CaloBTagDeepCSV_p71',\n",
       " b'HLT_DoublePFJets116MaxDeta1p6_DoubleCaloBTagDeepCSV_p71',\n",
       " b'HLT_DoublePFJets128MaxDeta1p6_DoubleCaloBTagDeepCSV_p71',\n",
       " b'HLT_Photon300_NoHE',\n",
       " b'HLT_Mu8_TrkIsoVVL',\n",
       " b'HLT_Mu8_DiEle12_CaloIdL_TrackIdL_DZ',\n",
       " b'HLT_Mu8_DiEle12_CaloIdL_TrackIdL',\n",
       " b'HLT_Mu8_Ele8_CaloIdM_TrackIdM_Mass8_PFHT350_DZ',\n",
       " b'HLT_Mu8_Ele8_CaloIdM_TrackIdM_Mass8_PFHT350',\n",
       " b'HLT_Mu8_TrkIsoVVL_Ele23_CaloIdL_TrackIdL_IsoVL_DZ',\n",
       " b'HLT_Mu8_TrkIsoVVL_Ele23_CaloIdL_TrackIdL_IsoVL_DZ_PFDiJet30',\n",
       " b'HLT_Mu8_TrkIsoVVL_Ele23_CaloIdL_TrackIdL_IsoVL_DZ_CaloDiJet30',\n",
       " b'HLT_Mu8_TrkIsoVVL_Ele23_CaloIdL_TrackIdL_IsoVL_DZ_PFDiJet30_PFBtagDeepCSV_1p5',\n",
       " b'HLT_Mu8_TrkIsoVVL_Ele23_CaloIdL_TrackIdL_IsoVL_DZ_CaloDiJet30_CaloBtagDeepCSV_1p5',\n",
       " b'HLT_Mu8_TrkIsoVVL_Ele23_CaloIdL_TrackIdL_IsoVL',\n",
       " b'HLT_Mu17_TrkIsoVVL',\n",
       " b'HLT_Mu19_TrkIsoVVL',\n",
       " b'HLT_BTagMu_AK4DiJet20_Mu5',\n",
       " b'HLT_BTagMu_AK4DiJet40_Mu5',\n",
       " b'HLT_BTagMu_AK4DiJet70_Mu5',\n",
       " b'HLT_BTagMu_AK4DiJet110_Mu5',\n",
       " b'HLT_BTagMu_AK4DiJet170_Mu5',\n",
       " b'HLT_BTagMu_AK4Jet300_Mu5',\n",
       " b'HLT_BTagMu_AK8DiJet170_Mu5',\n",
       " b'HLT_BTagMu_AK8Jet170_DoubleMu5',\n",
       " b'HLT_BTagMu_AK8Jet300_Mu5',\n",
       " b'HLT_BTagMu_AK4DiJet20_Mu5_noalgo',\n",
       " b'HLT_BTagMu_AK4DiJet40_Mu5_noalgo',\n",
       " b'HLT_BTagMu_AK4DiJet70_Mu5_noalgo',\n",
       " b'HLT_BTagMu_AK4DiJet110_Mu5_noalgo',\n",
       " b'HLT_BTagMu_AK4DiJet170_Mu5_noalgo',\n",
       " b'HLT_BTagMu_AK4Jet300_Mu5_noalgo',\n",
       " b'HLT_BTagMu_AK8DiJet170_Mu5_noalgo',\n",
       " b'HLT_BTagMu_AK8Jet170_DoubleMu5_noalgo',\n",
       " b'HLT_BTagMu_AK8Jet300_Mu5_noalgo',\n",
       " b'HLT_Ele15_Ele8_CaloIdL_TrackIdL_IsoVL',\n",
       " b'HLT_Ele23_Ele12_CaloIdL_TrackIdL_IsoVL_DZ',\n",
       " b'HLT_Ele23_Ele12_CaloIdL_TrackIdL_IsoVL',\n",
       " b'HLT_Mu23_TrkIsoVVL_Ele12_CaloIdL_TrackIdL_IsoVL_DZ',\n",
       " b'HLT_Mu23_TrkIsoVVL_Ele12_CaloIdL_TrackIdL_IsoVL',\n",
       " b'HLT_Mu12_TrkIsoVVL_Ele23_CaloIdL_TrackIdL_IsoVL',\n",
       " b'HLT_Mu12_TrkIsoVVL_Ele23_CaloIdL_TrackIdL_IsoVL_DZ',\n",
       " b'HLT_Mu12_DoublePhoton20',\n",
       " b'HLT_TriplePhoton_20_20_20_CaloIdLV2',\n",
       " b'HLT_TriplePhoton_20_20_20_CaloIdLV2_R9IdVL',\n",
       " b'HLT_TriplePhoton_30_30_10_CaloIdLV2',\n",
       " b'HLT_TriplePhoton_30_30_10_CaloIdLV2_R9IdVL',\n",
       " b'HLT_TriplePhoton_35_35_5_CaloIdLV2_R9IdVL',\n",
       " b'HLT_Photon20',\n",
       " b'HLT_Photon33',\n",
       " b'HLT_Photon50',\n",
       " b'HLT_Photon75',\n",
       " b'HLT_Photon90',\n",
       " b'HLT_Photon120',\n",
       " b'HLT_Photon150',\n",
       " b'HLT_Photon175',\n",
       " b'HLT_Photon200',\n",
       " b'HLT_Photon100EB_TightID_TightIso',\n",
       " b'HLT_Photon110EB_TightID_TightIso',\n",
       " b'HLT_Photon120EB_TightID_TightIso',\n",
       " b'HLT_Photon100EBHE10',\n",
       " b'HLT_Photon100EEHE10',\n",
       " b'HLT_Photon100EE_TightID_TightIso',\n",
       " b'HLT_Photon50_R9Id90_HE10_IsoM',\n",
       " b'HLT_Photon75_R9Id90_HE10_IsoM',\n",
       " b'HLT_Photon75_R9Id90_HE10_IsoM_EBOnly_CaloMJJ300_PFJetsMJJ400DEta3',\n",
       " b'HLT_Photon75_R9Id90_HE10_IsoM_EBOnly_CaloMJJ400_PFJetsMJJ600DEta3',\n",
       " b'HLT_Photon90_R9Id90_HE10_IsoM',\n",
       " b'HLT_Photon120_R9Id90_HE10_IsoM',\n",
       " b'HLT_Photon165_R9Id90_HE10_IsoM',\n",
       " b'HLT_Photon90_CaloIdL_PFHT700',\n",
       " b'HLT_Diphoton30_22_R9Id_OR_IsoCaloId_AND_HE_R9Id_Mass90',\n",
       " b'HLT_Diphoton30_22_R9Id_OR_IsoCaloId_AND_HE_R9Id_Mass95',\n",
       " b'HLT_Diphoton30PV_18PV_R9Id_AND_IsoCaloId_AND_HE_R9Id_PixelVeto_Mass55',\n",
       " b'HLT_Diphoton30PV_18PV_R9Id_AND_IsoCaloId_AND_HE_R9Id_NoPixelVeto_Mass55',\n",
       " b'HLT_Photon35_TwoProngs35',\n",
       " b'HLT_IsoMu24_TwoProngs35',\n",
       " b'HLT_Dimuon0_Jpsi_L1_NoOS',\n",
       " b'HLT_Dimuon0_Jpsi_NoVertexing_NoOS',\n",
       " b'HLT_Dimuon0_Jpsi',\n",
       " b'HLT_Dimuon0_Jpsi_NoVertexing',\n",
       " b'HLT_Dimuon0_Jpsi_L1_4R_0er1p5R',\n",
       " b'HLT_Dimuon0_Jpsi_NoVertexing_L1_4R_0er1p5R',\n",
       " b'HLT_Dimuon0_Jpsi3p5_Muon2',\n",
       " b'HLT_Dimuon0_Upsilon_L1_4p5',\n",
       " b'HLT_Dimuon0_Upsilon_L1_5',\n",
       " b'HLT_Dimuon0_Upsilon_L1_4p5NoOS',\n",
       " b'HLT_Dimuon0_Upsilon_L1_4p5er2p0',\n",
       " b'HLT_Dimuon0_Upsilon_L1_4p5er2p0M',\n",
       " b'HLT_Dimuon0_Upsilon_NoVertexing',\n",
       " b'HLT_Dimuon0_Upsilon_L1_5M',\n",
       " b'HLT_Dimuon0_LowMass_L1_0er1p5R',\n",
       " b'HLT_Dimuon0_LowMass_L1_0er1p5',\n",
       " b'HLT_Dimuon0_LowMass',\n",
       " b'HLT_Dimuon0_LowMass_L1_4',\n",
       " b'HLT_Dimuon0_LowMass_L1_4R',\n",
       " b'HLT_Dimuon0_LowMass_L1_TM530',\n",
       " b'HLT_Dimuon0_Upsilon_Muon_L1_TM0',\n",
       " b'HLT_Dimuon0_Upsilon_Muon_NoL1Mass',\n",
       " b'HLT_TripleMu_5_3_3_Mass3p8_DZ',\n",
       " b'HLT_TripleMu_10_5_5_DZ',\n",
       " b'HLT_TripleMu_12_10_5',\n",
       " b'HLT_Tau3Mu_Mu7_Mu1_TkMu1_Tau15',\n",
       " b'HLT_Tau3Mu_Mu7_Mu1_TkMu1_Tau15_Charge1',\n",
       " b'HLT_Tau3Mu_Mu7_Mu1_TkMu1_IsoTau15',\n",
       " b'HLT_Tau3Mu_Mu7_Mu1_TkMu1_IsoTau15_Charge1',\n",
       " b'HLT_DoubleMu3_DZ_PFMET50_PFMHT60',\n",
       " b'HLT_DoubleMu3_DZ_PFMET70_PFMHT70',\n",
       " b'HLT_DoubleMu3_DZ_PFMET90_PFMHT90',\n",
       " b'HLT_DoubleMu3_Trk_Tau3mu_NoL1Mass',\n",
       " b'HLT_DoubleMu4_Jpsi_Displaced',\n",
       " b'HLT_DoubleMu4_Jpsi_NoVertexing',\n",
       " b'HLT_DoubleMu4_JpsiTrkTrk_Displaced',\n",
       " b'HLT_DoubleMu43NoFiltersNoVtx',\n",
       " b'HLT_DoubleMu48NoFiltersNoVtx',\n",
       " b'HLT_Mu43NoFiltersNoVtx_Photon43_CaloIdL',\n",
       " b'HLT_Mu48NoFiltersNoVtx_Photon48_CaloIdL',\n",
       " b'HLT_Mu38NoFiltersNoVtxDisplaced_Photon38_CaloIdL',\n",
       " b'HLT_Mu43NoFiltersNoVtxDisplaced_Photon43_CaloIdL',\n",
       " b'HLT_DoubleMu33NoFiltersNoVtxDisplaced',\n",
       " b'HLT_DoubleMu40NoFiltersNoVtxDisplaced',\n",
       " b'HLT_DoubleMu20_7_Mass0to30_L1_DM4',\n",
       " b'HLT_DoubleMu20_7_Mass0to30_L1_DM4EG',\n",
       " b'HLT_HT425',\n",
       " b'HLT_HT430_DisplacedDijet40_DisplacedTrack',\n",
       " b'HLT_HT500_DisplacedDijet40_DisplacedTrack',\n",
       " b'HLT_HT430_DisplacedDijet60_DisplacedTrack',\n",
       " b'HLT_HT400_DisplacedDijet40_DisplacedTrack',\n",
       " b'HLT_HT650_DisplacedDijet60_Inclusive',\n",
       " b'HLT_HT550_DisplacedDijet60_Inclusive',\n",
       " b'HLT_DiJet110_35_Mjj650_PFMET110',\n",
       " b'HLT_DiJet110_35_Mjj650_PFMET120',\n",
       " b'HLT_DiJet110_35_Mjj650_PFMET130',\n",
       " b'HLT_TripleJet110_35_35_Mjj650_PFMET110',\n",
       " b'HLT_TripleJet110_35_35_Mjj650_PFMET120',\n",
       " b'HLT_TripleJet110_35_35_Mjj650_PFMET130',\n",
       " b'HLT_Ele30_eta2p1_WPTight_Gsf_CentralPFJet35_EleCleaned',\n",
       " b'HLT_Ele28_eta2p1_WPTight_Gsf_HT150',\n",
       " b'HLT_Ele28_HighEta_SC20_Mass55',\n",
       " b'HLT_DoubleMu20_7_Mass0to30_Photon23',\n",
       " b'HLT_Ele15_IsoVVVL_PFHT450_CaloBTagDeepCSV_4p5',\n",
       " b'HLT_Ele15_IsoVVVL_PFHT450_PFMET50',\n",
       " b'HLT_Ele15_IsoVVVL_PFHT450',\n",
       " b'HLT_Ele50_IsoVVVL_PFHT450',\n",
       " b'HLT_Ele15_IsoVVVL_PFHT600',\n",
       " b'HLT_Mu4_TrkIsoVVL_DiPFJet90_40_DEta3p5_MJJ750_HTT300_PFMETNoMu60',\n",
       " b'HLT_Mu8_TrkIsoVVL_DiPFJet40_DEta3p5_MJJ750_HTT300_PFMETNoMu60',\n",
       " b'HLT_Mu10_TrkIsoVVL_DiPFJet40_DEta3p5_MJJ750_HTT350_PFMETNoMu60',\n",
       " b'HLT_Mu15_IsoVVVL_PFHT450_CaloBTagDeepCSV_4p5',\n",
       " b'HLT_Mu15_IsoVVVL_PFHT450_PFMET50',\n",
       " b'HLT_Mu15_IsoVVVL_PFHT450',\n",
       " b'HLT_Mu50_IsoVVVL_PFHT450',\n",
       " b'HLT_Mu15_IsoVVVL_PFHT600',\n",
       " b'HLT_Mu3er1p5_PFJet100er2p5_PFMET70_PFMHT70_IDTight',\n",
       " b'HLT_Mu3er1p5_PFJet100er2p5_PFMET80_PFMHT80_IDTight',\n",
       " b'HLT_Mu3er1p5_PFJet100er2p5_PFMET90_PFMHT90_IDTight',\n",
       " b'HLT_Mu3er1p5_PFJet100er2p5_PFMET100_PFMHT100_IDTight',\n",
       " b'HLT_Mu3er1p5_PFJet100er2p5_PFMETNoMu70_PFMHTNoMu70_IDTight',\n",
       " b'HLT_Mu3er1p5_PFJet100er2p5_PFMETNoMu80_PFMHTNoMu80_IDTight',\n",
       " b'HLT_Mu3er1p5_PFJet100er2p5_PFMETNoMu90_PFMHTNoMu90_IDTight',\n",
       " b'HLT_Mu3er1p5_PFJet100er2p5_PFMETNoMu100_PFMHTNoMu100_IDTight',\n",
       " b'HLT_Dimuon10_PsiPrime_Barrel_Seagulls',\n",
       " b'HLT_Dimuon20_Jpsi_Barrel_Seagulls',\n",
       " b'HLT_Dimuon12_Upsilon_y1p4',\n",
       " b'HLT_Dimuon14_Phi_Barrel_Seagulls',\n",
       " b'HLT_Dimuon18_PsiPrime',\n",
       " b'HLT_Dimuon25_Jpsi',\n",
       " b'HLT_Dimuon18_PsiPrime_noCorrL1',\n",
       " b'HLT_Dimuon24_Upsilon_noCorrL1',\n",
       " b'HLT_Dimuon24_Phi_noCorrL1',\n",
       " b'HLT_Dimuon25_Jpsi_noCorrL1',\n",
       " b'HLT_DiMu4_Ele9_CaloIdL_TrackIdL_DZ_Mass3p8',\n",
       " b'HLT_DiMu9_Ele9_CaloIdL_TrackIdL_DZ',\n",
       " b'HLT_DiMu9_Ele9_CaloIdL_TrackIdL',\n",
       " b'HLT_DoubleIsoMu20_eta2p1',\n",
       " b'HLT_TrkMu12_DoubleTrkMu5NoFiltersNoVtx',\n",
       " b'HLT_TrkMu16_DoubleTrkMu6NoFiltersNoVtx',\n",
       " b'HLT_TrkMu17_DoubleTrkMu8NoFiltersNoVtx',\n",
       " b'HLT_Mu8',\n",
       " b'HLT_Mu17',\n",
       " b'HLT_Mu19',\n",
       " b'HLT_Mu17_Photon30_IsoCaloId',\n",
       " b'HLT_Ele8_CaloIdL_TrackIdL_IsoVL_PFJet30',\n",
       " b'HLT_Ele12_CaloIdL_TrackIdL_IsoVL_PFJet30',\n",
       " b'HLT_Ele15_CaloIdL_TrackIdL_IsoVL_PFJet30',\n",
       " b'HLT_Ele23_CaloIdL_TrackIdL_IsoVL_PFJet30',\n",
       " b'HLT_Ele8_CaloIdM_TrackIdM_PFJet30',\n",
       " b'HLT_Ele17_CaloIdM_TrackIdM_PFJet30',\n",
       " b'HLT_Ele23_CaloIdM_TrackIdM_PFJet30',\n",
       " b'HLT_Ele50_CaloIdVT_GsfTrkIdT_PFJet165',\n",
       " b'HLT_Ele115_CaloIdVT_GsfTrkIdT',\n",
       " b'HLT_Ele135_CaloIdVT_GsfTrkIdT',\n",
       " b'HLT_Ele145_CaloIdVT_GsfTrkIdT',\n",
       " b'HLT_Ele200_CaloIdVT_GsfTrkIdT',\n",
       " b'HLT_Ele250_CaloIdVT_GsfTrkIdT',\n",
       " b'HLT_Ele300_CaloIdVT_GsfTrkIdT',\n",
       " b'HLT_PFHT330PT30_QuadPFJet_75_60_45_40_TriplePFBTagDeepCSV_4p5',\n",
       " b'HLT_PFHT330PT30_QuadPFJet_75_60_45_40',\n",
       " b'HLT_PFHT400_SixPFJet32_DoublePFBTagDeepCSV_2p94',\n",
       " b'HLT_PFHT400_SixPFJet32',\n",
       " b'HLT_PFHT450_SixPFJet36_PFBTagDeepCSV_1p59',\n",
       " b'HLT_PFHT450_SixPFJet36',\n",
       " b'HLT_PFHT400_FivePFJet_100_100_60_30_30',\n",
       " b'HLT_PFHT400_FivePFJet_100_100_60_30_30_DoublePFBTagDeepCSV_4p5',\n",
       " b'HLT_PFHT400_FivePFJet_120_120_60_30_30_DoublePFBTagDeepCSV_4p5',\n",
       " b'HLT_PFHT350',\n",
       " b'HLT_PFHT350MinPFJet15',\n",
       " b'HLT_Photon60_R9Id90_CaloIdL_IsoL',\n",
       " b'HLT_Photon60_R9Id90_CaloIdL_IsoL_DisplacedIdL',\n",
       " b'HLT_Photon60_R9Id90_CaloIdL_IsoL_DisplacedIdL_PFHT350MinPFJet15',\n",
       " b'HLT_ECALHT800',\n",
       " b'HLT_DiSC30_18_EIso_AND_HE_Mass70',\n",
       " b'HLT_Physics',\n",
       " b'HLT_Physics_part0',\n",
       " b'HLT_Physics_part1',\n",
       " b'HLT_Physics_part2',\n",
       " b'HLT_Physics_part3',\n",
       " b'HLT_Physics_part4',\n",
       " b'HLT_Physics_part5',\n",
       " b'HLT_Physics_part6',\n",
       " b'HLT_Physics_part7',\n",
       " b'HLT_Random',\n",
       " b'HLT_ZeroBias',\n",
       " b'HLT_ZeroBias_Alignment',\n",
       " b'HLT_ZeroBias_part0',\n",
       " b'HLT_ZeroBias_part1',\n",
       " b'HLT_ZeroBias_part2',\n",
       " b'HLT_ZeroBias_part3',\n",
       " b'HLT_ZeroBias_part4',\n",
       " b'HLT_ZeroBias_part5',\n",
       " b'HLT_ZeroBias_part6',\n",
       " b'HLT_ZeroBias_part7',\n",
       " b'HLT_AK4CaloJet30',\n",
       " b'HLT_AK4CaloJet40',\n",
       " b'HLT_AK4CaloJet50',\n",
       " b'HLT_AK4CaloJet80',\n",
       " b'HLT_AK4CaloJet100',\n",
       " b'HLT_AK4CaloJet120',\n",
       " b'HLT_AK4PFJet30',\n",
       " b'HLT_AK4PFJet50',\n",
       " b'HLT_AK4PFJet80',\n",
       " b'HLT_AK4PFJet100',\n",
       " b'HLT_AK4PFJet120',\n",
       " b'HLT_SinglePhoton10_Eta3p1ForPPRef',\n",
       " b'HLT_SinglePhoton20_Eta3p1ForPPRef',\n",
       " b'HLT_SinglePhoton30_Eta3p1ForPPRef',\n",
       " b'HLT_Photon20_HoverELoose',\n",
       " b'HLT_Photon30_HoverELoose',\n",
       " b'HLT_EcalCalibration',\n",
       " b'HLT_HcalCalibration',\n",
       " b'HLT_L1UnpairedBunchBptxMinus',\n",
       " b'HLT_L1UnpairedBunchBptxPlus',\n",
       " b'HLT_L1NotBptxOR',\n",
       " b'HLT_L1_CDC_SingleMu_3_er1p2_TOP120_DPHI2p618_3p142',\n",
       " b'HLT_CDC_L2cosmic_10_er1p0',\n",
       " b'HLT_CDC_L2cosmic_5p5_er1p0',\n",
       " b'HLT_HcalNZS',\n",
       " b'HLT_HcalPhiSym',\n",
       " b'HLT_HcalIsolatedbunch',\n",
       " b'HLT_IsoTrackHB',\n",
       " b'HLT_IsoTrackHE',\n",
       " b'HLT_ZeroBias_FirstCollisionAfterAbortGap',\n",
       " b'HLT_ZeroBias_IsolatedBunches',\n",
       " b'HLT_ZeroBias_FirstCollisionInTrain',\n",
       " b'HLT_ZeroBias_LastCollisionInTrain',\n",
       " b'HLT_ZeroBias_FirstBXAfterTrain',\n",
       " b'HLT_IsoMu24_eta2p1_MediumChargedIsoPFTau50_Trk30_eta2p1_1pr',\n",
       " b'HLT_MediumChargedIsoPFTau50_Trk30_eta2p1_1pr_MET90',\n",
       " b'HLT_MediumChargedIsoPFTau50_Trk30_eta2p1_1pr_MET100',\n",
       " b'HLT_MediumChargedIsoPFTau50_Trk30_eta2p1_1pr_MET110',\n",
       " b'HLT_MediumChargedIsoPFTau50_Trk30_eta2p1_1pr_MET120',\n",
       " b'HLT_MediumChargedIsoPFTau50_Trk30_eta2p1_1pr_MET130',\n",
       " b'HLT_MediumChargedIsoPFTau50_Trk30_eta2p1_1pr_MET140',\n",
       " b'HLT_MediumChargedIsoPFTau50_Trk30_eta2p1_1pr',\n",
       " b'HLT_MediumChargedIsoPFTau180HighPtRelaxedIso_Trk50_eta2p1_1pr',\n",
       " b'HLT_MediumChargedIsoPFTau180HighPtRelaxedIso_Trk50_eta2p1',\n",
       " b'HLT_MediumChargedIsoPFTau200HighPtRelaxedIso_Trk50_eta2p1',\n",
       " b'HLT_MediumChargedIsoPFTau220HighPtRelaxedIso_Trk50_eta2p1',\n",
       " b'HLT_Ele16_Ele12_Ele8_CaloIdL_TrackIdL',\n",
       " ...]"
      ]
     },
     "execution_count": 3,
     "metadata": {},
     "output_type": "execute_result"
    }
   ],
   "source": [
    "events.keys()\n",
    "#events.values()\n",
    "#events.show()"
   ]
  },
  {
   "cell_type": "markdown",
   "metadata": {},
   "source": [
    "**Question 1**: Which collections contain muons or muon candidates? (At any level: generated, reconstructed, trigger, etc.)"
   ]
  },
  {
   "cell_type": "markdown",
   "metadata": {},
   "source": [
    "Answer:\n",
    "    \n",
    "Muon, Trigobj, GenPart"
   ]
  },
  {
   "cell_type": "markdown",
   "metadata": {},
   "source": [
    "# Step2 Print and plot some muon objects \n",
    "We can print different objects such as transeverse momentum($p_T$ pt), pseudorapidity(eta $\\eta$) and azimuthal angle(phi $\\phi$) and apply cut on $p_T$, $\\eta$ and $\\phi$ using uproot.<br>\n",
    "First lets print pt eta phi of reconstructed muon "
   ]
  },
  {
   "cell_type": "code",
   "execution_count": 4,
   "metadata": {},
   "outputs": [],
   "source": [
    "muon_pt,muon_eta,muon_phi,nmuon,ngenpart=events.arrays([\"Muon_pt\", \"Muon_eta\", \"Muon_phi\", \"nMuon\", \"nGenPart\"],outputtype=tuple)"
   ]
  },
  {
   "cell_type": "code",
   "execution_count": 5,
   "metadata": {},
   "outputs": [
    {
     "name": "stdout",
     "output_type": "stream",
     "text": [
      "muon_pt= [[32.774258 32.440166] [50.70696 34.973988] [93.49551 10.535445] ... [42.114517] [30.597622 25.593815] [65.64539 13.559187]] \n",
      " muon_eta= [[2.4101562 0.7644043] [0.52233887 -0.58691406] [-1.2946777 0.2897339] ... [1.7060547] [-0.014158249 -2.178711] [-2.0957031 -1.9206543]] \n",
      " muon_phi= [[0.614624 -2.543457] [-0.5140381 2.2592773] [-0.046943665 -1.4487305] ... [2.9746094] [-2.317871 0.88879395] [-2.708496 1.1738281]]\n"
     ]
    }
   ],
   "source": [
    "print('muon_pt=', muon_pt, '\\n',\n",
    "      'muon_eta=', muon_eta, '\\n',\n",
    "      'muon_phi=', muon_phi)"
   ]
  },
  {
   "cell_type": "markdown",
   "metadata": {},
   "source": [
    "Lets plot them using matplotlib"
   ]
  },
  {
   "cell_type": "code",
   "execution_count": 6,
   "metadata": {
    "scrolled": true
   },
   "outputs": [
    {
     "data": {
      "text/plain": [
       "Text(0, 0.5, 'Events')"
      ]
     },
     "execution_count": 6,
     "metadata": {},
     "output_type": "execute_result"
    },
    {
     "data": {
      "image/png": "[encoded data removed]",
      "text/plain": [
       "<Figure size 648x432 with 1 Axes>"
      ]
     },
     "metadata": {
      "needs_background": "light"
     },
     "output_type": "display_data"
    }
   ],
   "source": [
    "plt.figure(figsize=(9,6))\n",
    "plt.hist(muon_pt.flatten(), bins=150, range=[0,150], histtype='step',linewidth=2, color='blue', label='$p_T$ distribution of all Muons')\n",
    "plt.title('$p_T$ distribution of PAT Muon objects')\n",
    "plt.xlabel(r'Muon $p_T$ (GeV)')\n",
    "plt.ylabel('Events')"
   ]
  },
  {
   "cell_type": "code",
   "execution_count": 7,
   "metadata": {},
   "outputs": [
    {
     "data": {
      "text/plain": [
       "Text(0, 0.5, 'Events')"
      ]
     },
     "execution_count": 7,
     "metadata": {},
     "output_type": "execute_result"
    },
    {
     "data": {
      "image/png": "[encoded data removed]",
      "text/plain": [
       "<Figure size 648x432 with 1 Axes>"
      ]
     },
     "metadata": {
      "needs_background": "light"
     },
     "output_type": "display_data"
    }
   ],
   "source": [
    "plt.figure(figsize=(9,6))\n",
    "plt.hist(muon_eta.flatten(), bins=60, range=[-3, 3], histtype='step',linewidth=2, color='red', label='muon_$\\eta$')\n",
    "plt.title('$\\eta$ distribution of PAT Muon objects')\n",
    "plt.xlabel(r'Muon $\\eta$')\n",
    "plt.ylabel('Events')"
   ]
  },
  {
   "cell_type": "code",
   "execution_count": 8,
   "metadata": {},
   "outputs": [
    {
     "data": {
      "text/plain": [
       "Text(0, 0.5, 'Events')"
      ]
     },
     "execution_count": 8,
     "metadata": {},
     "output_type": "execute_result"
    },
    {
     "data": {
      "image/png": "[encoded data removed]",
      "text/plain": [
       "<Figure size 648x432 with 1 Axes>"
      ]
     },
     "metadata": {
      "needs_background": "light"
     },
     "output_type": "display_data"
    }
   ],
   "source": [
    "plt.figure(figsize=(9,6))\n",
    "plt.hist(muon_phi.flatten(), bins=70, range=[-3.5, 3.5], histtype='step',linewidth=2, color='green', label='muon_$\\phi$')\n",
    "plt.title('$\\phi$ distribution of PAT Muon objects')\n",
    "plt.xlabel(r'Muon $\\phi$')\n",
    "plt.ylabel('Events')"
   ]
  },
  {
   "cell_type": "markdown",
   "metadata": {},
   "source": [
    "Then lets apply criteria such as pt>20 GeV and |eta|<2.4."
   ]
  },
  {
   "cell_type": "code",
   "execution_count": 9,
   "metadata": {},
   "outputs": [
    {
     "data": {
      "text/plain": [
       "<JaggedArray [[False True] [True True] [True False] ... [True] [True True] [True False]] at 0x7fed7c017e50>"
      ]
     },
     "execution_count": 9,
     "metadata": {},
     "output_type": "execute_result"
    }
   ],
   "source": [
    "masking=(muon_pt>20)&(abs(muon_eta)<2.4)\n",
    "masking"
   ]
  },
  {
   "cell_type": "markdown",
   "metadata": {},
   "source": [
    "As you can see above, by performing masking, a jagged array of bool values is created.\n",
    "Then using the sytax array[masking], we keep only the varible that is true in the masking array"
   ]
  },
  {
   "cell_type": "code",
   "execution_count": 10,
   "metadata": {},
   "outputs": [
    {
     "name": "stdout",
     "output_type": "stream",
     "text": [
      "muon_pt= [[32.440166] [50.70696 34.973988] [93.49551] ... [42.114517] [30.597622 25.593815] [65.64539]] \n",
      " muon_eta= [[0.7644043] [0.52233887 -0.58691406] [-1.2946777] ... [1.7060547] [-0.014158249 -2.178711] [-2.0957031]] \n",
      " muon_phi= [[-2.543457] [-0.5140381 2.2592773] [-0.046943665] ... [2.9746094] [-2.317871 0.88879395] [-2.708496]]\n"
     ]
    }
   ],
   "source": [
    "print('muon_pt=', muon_pt[masking], '\\n',\n",
    "      'muon_eta=', muon_eta[masking], '\\n',\n",
    "      'muon_phi=', muon_phi[masking])"
   ]
  },
  {
   "cell_type": "markdown",
   "metadata": {},
   "source": [
    "Then lets plot pt of reconstructed muon and reconstructed muon with pt>20 GeV and |eta|<2.4, note that we can use flatten() to reduce the jagged 2 dimension array to 1 dimension."
   ]
  },
  {
   "cell_type": "code",
   "execution_count": 11,
   "metadata": {},
   "outputs": [],
   "source": [
    "muon_pt_masked=muon_pt[masking]\n",
    "muon_pt_flat=muon_pt.flatten()\n",
    "muon_pt_masked_flat=muon_pt_masked.flatten()"
   ]
  },
  {
   "cell_type": "code",
   "execution_count": 12,
   "metadata": {},
   "outputs": [
    {
     "data": {
      "text/plain": [
       "Text(0, 0.5, 'Events')"
      ]
     },
     "execution_count": 12,
     "metadata": {},
     "output_type": "execute_result"
    },
    {
     "data": {
      "image/png": "[encoded data removed]",
      "text/plain": [
       "<Figure size 648x432 with 1 Axes>"
      ]
     },
     "metadata": {
      "needs_background": "light"
     },
     "output_type": "display_data"
    }
   ],
   "source": [
    "plt.figure(figsize=(9,6))\n",
    "plt.hist(muon_pt_flat, bins=150, range=[0,150], histtype='step',linewidth=2, color='red', label='muon_$p_T$')\n",
    "plt.hist(muon_pt_masked_flat, bins=150, range=[0,150], histtype='step',linewidth=2, linestyle=':', color='blue', label='muon_$p_T$ with criteria')\n",
    "plt.legend()\n",
    "plt.xlabel(r'Muon $p_T$ (GeV)')\n",
    "plt.ylabel('Events')"
   ]
  },
  {
   "cell_type": "markdown",
   "metadata": {},
   "source": [
    "**Question 2**: Using the syntax above, plot the main kinematic observables for the following objects and selections (only the first few events):\n",
    "* all final-state muons in the GenPart collection\n",
    "* all final-state muons in the GenPart collection with pT > 20 GeV and |η| < 2.4\n",
    "* all final-state muons in the GenPart collection with pT > 20 GeV and |η| < 2.4, and not coming from a hadron or τ decay\n",
    "\n",
    "**Question 3**: Compare the numbers of reconstructed and generated muons and their pT spectra at different selection stages, by overlaying the distributions in the same frame.<br>\n",
    "Since you are running on a Drell–Yan sample, you would expect two muons per event. Explain why there are sometimes more than two muons in an event.<br>\n",
    "Look at the full distributions, without η and pT cuts. Can you explain the differences?<br>\n",
    "\n",
    "Hint (GenPart_statusFlags: gen status flags stored bitwise. Bits are: 0 : isPrompt, 1 : isDecayedLeptonHadron, 2 : isTauDecayProduct, 3 : isPromptTauDecayProduct, 4 : isDirectTauDecayProduct, 5 : isDirectPromptTauDecayProduct, 6 : isDirectHadronDecayProduct, 7 : isHardProcess, 8 : fromHardProcess, 9 : isHardProcessTauDecayProduct, 10 : isDirectHardProcessTauDecayProduct, 11 : fromHardProcessBeforeFSR, 12 : isFirstCopy, 13 : isLastCopy, 14 : isLastCopyBeforeFSR,\n",
    "\n",
    "GenPart_status\tParticle status. 1=stable)"
   ]
  },
  {
   "cell_type": "markdown",
   "metadata": {},
   "source": [
    "Answer:\n",
    "1. See below\n",
    "1. Other than the muons from the DY process, there are muons produced in the “underlying event” or in pileup vertices (mostly from hadron decays)\n",
    "1. In the higher pT region (20–60 GeV, muons from Z decays), there are more GEN\n",
    "muons than PAT muons, because the GenParticle collection includes muons\n",
    "outside the detector acceptance (|η| > 2.4), which are not reconstructed.\n",
    "1. In the very low-pT region (< 10 GeV) there are more reconstructed muons than\n",
    "generated ones. Fake muons and muons from light-hadron decays, which are\n",
    "generally low pT, are not included in the GenParticle collection "
   ]
  },
  {
   "cell_type": "code",
   "execution_count": 13,
   "metadata": {},
   "outputs": [
    {
     "data": {
      "image/png": "[encoded data removed]",
      "text/plain": [
       "<Figure size 648x432 with 1 Axes>"
      ]
     },
     "metadata": {
      "needs_background": "light"
     },
     "output_type": "display_data"
    }
   ],
   "source": [
    "genpart_status, genpart_statusflags, genpart_pdgid, genpart_pt, genpart_eta, genpart_phi=events.arrays([\"GenPart_status\", \"GenPart_statusFlags\", \"GenPart_pdgId\", \"GenPart_pt\", \"GenPart_eta\", \"GenPart_phi\"], outputtype=tuple)\n",
    "masking_one=(abs(genpart_pdgid)==13)& (genpart_status==1)\n",
    "masking_two=(abs(genpart_pdgid)==13)& (genpart_status==1)&(genpart_pt>20)&(abs(genpart_eta)<2.4)\n",
    "masking_three=(abs(genpart_pdgid)==13)& (genpart_status==1)&(genpart_pt>20)&(abs(genpart_eta)<2.4)&((genpart_statusflags%2)==1)\n",
    "plt.figure(figsize=(9,6))\n",
    "plt.hist(genpart_pt[masking_one].flatten(), bins=150, range=[0,150], histtype='step',linewidth=2, color='red', label='All final state Muons')\n",
    "plt.hist(genpart_pt[masking_two].flatten(), bins=150, range=[0,150], histtype='step',linewidth=2, color='blue', label='Final state Muons with $p_T$ > 20GeV and $|\\eta|$<2.4')\n",
    "plt.hist(genpart_pt[masking_three].flatten(), bins=150, range=[0,150], histtype='step',linewidth=2, color='brown', linestyle=('dashed'), label='Final state Muons with $p_T$ > 20GeV and $|\\eta|$<2.4\\nand not coming from hadron or $\\\\tau$ decay')\n",
    "plt.legend()\n",
    "plt.title('$p_T$ distribution of the Generated Muons')\n",
    "plt.xlabel(r'generated Muon $p_T$ (GeV)')\n",
    "plt.ylabel('Events')\n",
    "plt. yscale('log')"
   ]
  },
  {
   "cell_type": "markdown",
   "metadata": {},
   "source": [
    "Lets also compare the number of muons in each event between reconstructed one and generated one"
   ]
  },
  {
   "cell_type": "code",
   "execution_count": 14,
   "metadata": {},
   "outputs": [
    {
     "data": {
      "text/plain": [
       "Text(0, 0.5, 'Events')"
      ]
     },
     "execution_count": 14,
     "metadata": {},
     "output_type": "execute_result"
    },
    {
     "data": {
      "image/png": "[encoded data removed]",
      "text/plain": [
       "<Figure size 648x432 with 1 Axes>"
      ]
     },
     "metadata": {
      "needs_background": "light"
     },
     "output_type": "display_data"
    }
   ],
   "source": [
    "plt.figure(figsize=(9,6))\n",
    "plt.hist(nmuon.flatten(), bins=10, range=[0,10], histtype='step',linewidth=2, color='red', label='number of PAT muons')\n",
    "plt.hist(masking_one.sum().flatten(), bins=10, range=[0,10], histtype='step',linewidth=2, color='blue', label='number of GEN muons')\n",
    "plt.legend()\n",
    "plt.xlabel('number of muon')\n",
    "plt.ylabel('Events')"
   ]
  },
  {
   "cell_type": "code",
   "execution_count": 28,
   "metadata": {},
   "outputs": [
    {
     "data": {
      "text/plain": [
       "Text(0, 0.5, 'Events')"
      ]
     },
     "execution_count": 28,
     "metadata": {},
     "output_type": "execute_result"
    },
    {
     "data": {
      "image/png": "[encoded data removed]",
      "text/plain": [
       "<Figure size 648x432 with 1 Axes>"
      ]
     },
     "metadata": {
      "needs_background": "light"
     },
     "output_type": "display_data"
    }
   ],
   "source": [
    "plt.figure(figsize=(9,6))\n",
    "plt.hist(muon_pt.flatten(), bins=150, range=[0,150], histtype='step',linewidth=2, color='blue', label='recon_muon_$p_T$')\n",
    "plt.hist(genpart_pt[masking_one].flatten(), bins=150, range=[0,150], histtype='step',linewidth=2, color='red', label='gen_muon_$p_T$')\n",
    "plt.legend()\n",
    "plt.xlabel(r'Muon $p_T$ (GeV)')\n",
    "plt.ylabel('Events')"
   ]
  },
  {
   "cell_type": "markdown",
   "metadata": {},
   "source": [
    "# Step 3 Gen matching\n",
    "When working with simulated data, it is sometime useful to pair each reconstructed muon to its corresponding generated particle, e.g. for efficiency or resolution studies. In this part of the exercise we will learn possible ways to do this.<br>\n",
    "\n",
    "Gen matching information for muon is already stored in Muon_genPartIdx, which is matched on status=1 muon using particle flow algorithm. \n",
    "Lets print the Moun_genPartIdx. Note that -1 means cannot matched to generated particles."
   ]
  },
  {
   "cell_type": "code",
   "execution_count": 16,
   "metadata": {},
   "outputs": [
    {
     "data": {
      "text/plain": [
       "<JaggedArray [[11 13] [7 6] [10 9] ... [18] [6 7] [9 8]] at 0x7fed52e782d0>"
      ]
     },
     "execution_count": 16,
     "metadata": {},
     "output_type": "execute_result"
    }
   ],
   "source": [
    "muon_genpartidx=events.array(\"Muon_genPartIdx\")\n",
    "muon_genpartidx"
   ]
  },
  {
   "cell_type": "markdown",
   "metadata": {},
   "source": [
    "We can also do a matching ourselves using deltaR method, in deltaR method, we need to make sure the delta phi is between pi and -pi. Below defines a deltaR function\n",
    "&Delta;R = (&Delta;&eta;<sup>2</sup> + &Delta;&phi;<sup>2</sup>)<sup>1/2</sup> <br>\n",
    "Note that &Delta;&phi; is between &pi; to -&pi;."
   ]
  },
  {
   "cell_type": "code",
   "execution_count": 17,
   "metadata": {},
   "outputs": [],
   "source": [
    "def deltaR(genetas, eta, genphis, phi):\n",
    "    return np.sqrt((genetas-eta)**2+((genphis-phi+pi)%(2*pi)-pi)**2)"
   ]
  },
  {
   "cell_type": "code",
   "execution_count": 18,
   "metadata": {},
   "outputs": [],
   "source": [
    "muon_genpartidx_deltar=[]\n",
    "\n",
    "for genetas, genphis, etas, phis in zip(genpart_eta, genpart_phi, muon_eta, muon_phi):\n",
    "  idx=[]\n",
    "  for eta, phi in zip(etas, phis):\n",
    "    deltar=deltaR(genetas, eta, genphis, phi)\n",
    "    if deltar.min()<0.3:\n",
    "        idx.append(deltar.argmin())\n",
    "    else:\n",
    "        idx.append(-1)\n",
    "  muon_genpartidx_deltar.append(idx)\n",
    "\n",
    "#print(muon_genpartidx_deltar)\n",
    "#for geneta, genphi, in zip"
   ]
  },
  {
   "cell_type": "markdown",
   "metadata": {},
   "source": [
    "**Question 5**: Are there reconstructed muons that do not match any generated muons? Why? "
   ]
  },
  {
   "cell_type": "markdown",
   "metadata": {},
   "source": [
    "Yes, mostly at low pT or high |η|, where most of the fake muons or muons from\n",
    "underlying event are. Such fakes do not have a corresponding generated muon"
   ]
  },
  {
   "cell_type": "markdown",
   "metadata": {},
   "source": [
    "**Question 6**: Are there cases in which the &Delta;R matching fails to find the correct generated particle? Why? "
   ]
  },
  {
   "cell_type": "markdown",
   "metadata": {},
   "source": [
    "There are few cases. A geometrical matching (closest generated muon in ΔR) can fail\n",
    "when there are multiple muons close to each other (e.g. a well reconstructed muon and\n",
    "a few duplicates around it, reconstructed using the wrong track)"
   ]
  },
  {
   "cell_type": "markdown",
   "metadata": {},
   "source": [
    "Lets take a look at those reconstracted muons that do not match any generated muons, and plot their pt and eta distribution"
   ]
  },
  {
   "cell_type": "code",
   "execution_count": 19,
   "metadata": {},
   "outputs": [],
   "source": [
    "masking_nogenmatch=(muon_genpartidx==-1)\n",
    "masking_genmatched=(muon_genpartidx!=-1)"
   ]
  },
  {
   "cell_type": "code",
   "execution_count": 20,
   "metadata": {},
   "outputs": [
    {
     "data": {
      "text/plain": [
       "Text(0, 0.5, 'Events')"
      ]
     },
     "execution_count": 20,
     "metadata": {},
     "output_type": "execute_result"
    },
    {
     "data": {
      "image/png": "[encoded data removed]",
      "text/plain": [
       "<Figure size 648x432 with 1 Axes>"
      ]
     },
     "metadata": {
      "needs_background": "light"
     },
     "output_type": "display_data"
    }
   ],
   "source": [
    "plt.figure(figsize=(9,6))\n",
    "plt.hist(muon_pt[masking_nogenmatch].flatten(), bins=150, range=[0,150], histtype='step',linewidth=2, color='blue', label='unmatched PAT muon $p_T$')\n",
    "plt.hist(muon_pt[masking_genmatched].flatten(), bins=150, range=[0,150], histtype='step',linewidth=2, color='red', label='matched PAT muon $p_T$')\n",
    "plt.legend()\n",
    "plt.xlabel(r'PAT Muon $p_T$ (GeV)')\n",
    "plt.ylabel('Events')"
   ]
  },
  {
   "cell_type": "code",
   "execution_count": 21,
   "metadata": {},
   "outputs": [
    {
     "data": {
      "text/plain": [
       "Text(0, 0.5, 'Events')"
      ]
     },
     "execution_count": 21,
     "metadata": {},
     "output_type": "execute_result"
    },
    {
     "data": {
      "image/png": "[encoded data removed]",
      "text/plain": [
       "<Figure size 648x432 with 1 Axes>"
      ]
     },
     "metadata": {
      "needs_background": "light"
     },
     "output_type": "display_data"
    }
   ],
   "source": [
    "plt.figure(figsize=(9,6))\n",
    "plt.hist(muon_eta[masking_nogenmatch].flatten(), bins=60, range=[-3,3], histtype='step',linewidth=2, color='blue', label='unmatched PAT muon $\\eta$')\n",
    "plt.hist(muon_eta[masking_genmatched].flatten(), bins=60, range=[-3,3], histtype='step',linewidth=2, color='red', label='matched PAT muon $\\eta$')\n",
    "plt.legend()\n",
    "plt.xlabel(r'PAT Muon $\\eta$')\n",
    "plt.ylabel('Events')"
   ]
  },
  {
   "cell_type": "markdown",
   "metadata": {},
   "source": [
    "# Step 4: Trigger matching"
   ]
  },
  {
   "cell_type": "markdown",
   "metadata": {},
   "source": [
    "A physics analysis often requires a matching between trigger and offline objects for a proper assessment of trigger efficiencies and related systematics. In order to reduce size per event. NanoAODThe no longer store matching information between muon objects and trigger objects. \n",
    "TrigObj_id in nanoAOD stored the ID of the HLT object. Using previous recipe, we can perform a simple $\\Delta R$ matching between HLT and reconstructed objects."
   ]
  },
  {
   "cell_type": "code",
   "execution_count": 22,
   "metadata": {},
   "outputs": [],
   "source": [
    "hlt_pt, hlt_eta, hlt_phi, hlt_id= events.arrays([\"TrigObj_pt\", \"TrigObj_eta\", \"TrigObj_phi\", \"TrigObj_id\"], outputtype=tuple)"
   ]
  },
  {
   "cell_type": "code",
   "execution_count": 23,
   "metadata": {},
   "outputs": [],
   "source": [
    "hltmuon_mask=abs(hlt_id)==13"
   ]
  },
  {
   "cell_type": "code",
   "execution_count": 24,
   "metadata": {},
   "outputs": [],
   "source": [
    "hltmuon_genpartidx_deltar=[]\n",
    "\n",
    "for genetas, genphis, etas, phis in zip(genpart_eta, genpart_phi, hlt_eta[hltmuon_mask], hlt_phi[hltmuon_mask]):\n",
    "  idx=[]\n",
    "  for eta, phi in zip(etas, phis):\n",
    "    deltar=deltaR(genetas, eta, genphis, phi)\n",
    "    if deltar.min()<0.1:\n",
    "        idx.append(deltar.argmin())\n",
    "    else:\n",
    "        idx.append(-1)\n",
    "  hltmuon_genpartidx_deltar.append(idx)\n"
   ]
  },
  {
   "cell_type": "code",
   "execution_count": 25,
   "metadata": {},
   "outputs": [],
   "source": [
    "hltmuon_genpartidx_deltar=ak.fromiter(hltmuon_genpartidx_deltar)\n",
    "hltmasking_nogenmatch=(hltmuon_genpartidx_deltar==-1)\n",
    "hltmasking_genmatched=(hltmuon_genpartidx_deltar!=-1)"
   ]
  },
  {
   "cell_type": "code",
   "execution_count": 26,
   "metadata": {},
   "outputs": [
    {
     "data": {
      "image/png": "[encoded data removed]",
      "text/plain": [
       "<Figure size 648x432 with 1 Axes>"
      ]
     },
     "metadata": {
      "needs_background": "light"
     },
     "output_type": "display_data"
    }
   ],
   "source": [
    "plt.figure(figsize=(9,6))\n",
    "plt.hist(hlt_pt[hltmuon_mask].flatten(), bins=150, range=[0,150], histtype='step', linewidth=2, color='green', label='HLT muon $p_T$')\n",
    "plt.hist(hlt_pt[hltmuon_mask][hltmasking_nogenmatch].flatten(), bins=150, range=[0,150], histtype='step',linewidth=2, color='blue', label='unmatched HLT muon $p_T$')\n",
    "plt.hist(hlt_pt[hltmuon_mask][hltmasking_genmatched].flatten(), bins=150, range=[0,150], histtype='step',linewidth=2, color='red', linestyle=(':'), label='matched HLT muon $p_T$')\n",
    "\n",
    "plt.legend()\n",
    "plt.xlabel(r'Muon $p_T$ (GeV)')\n",
    "plt.ylabel('Events')\n",
    "plt.yscale('log')"
   ]
  },
  {
   "cell_type": "code",
   "execution_count": 27,
   "metadata": {},
   "outputs": [
    {
     "data": {
      "text/plain": [
       "Text(0, 0.5, 'Events')"
      ]
     },
     "execution_count": 27,
     "metadata": {},
     "output_type": "execute_result"
    },
    {
     "data": {
      "image/png": "[encoded data removed]",
      "text/plain": [
       "<Figure size 648x432 with 1 Axes>"
      ]
     },
     "metadata": {
      "needs_background": "light"
     },
     "output_type": "display_data"
    }
   ],
   "source": [
    "plt.figure(figsize=(9,6))\n",
    "plt.hist(hlt_eta[hltmuon_mask][hltmasking_nogenmatch].flatten(), bins=60, range=[-3,3], histtype='step',linewidth=2, color='blue', label='unmatched HLT muon $\\eta$')\n",
    "plt.hist(hlt_eta[hltmuon_mask][hltmasking_genmatched].flatten(), bins=60, range=[-3,3], histtype='step',linewidth=2, color='red', label='matched HLT muon $\\eta$')\n",
    "plt.hist(hlt_eta[hltmuon_mask].flatten(), bins=60, range=[-3,3], histtype='step',linewidth=2, color='green', label='HLT muon $\\eta$')\n",
    "plt.legend()\n",
    "plt.xlabel(r'Muon $\\eta$')\n",
    "plt.ylabel('Events')"
   ]
  },
  {
   "cell_type": "code",
   "execution_count": null,
   "metadata": {},
   "outputs": [],
   "source": []
  },
  {
   "cell_type": "code",
   "execution_count": null,
   "metadata": {},
   "outputs": [],
   "source": []
  }
 ],
 "metadata": {
  "kernelspec": {
   "display_name": "Python 3",
   "language": "python",
   "name": "python3"
  },
  "language_info": {
   "codemirror_mode": {
    "name": "ipython",
    "version": 3
   },
   "file_extension": ".py",
   "mimetype": "text/x-python",
   "name": "python",
   "nbconvert_exporter": "python",
   "pygments_lexer": "ipython3",
   "version": "3.7.6"
  }
 },
 "nbformat": 4,
 "nbformat_minor": 2
}
