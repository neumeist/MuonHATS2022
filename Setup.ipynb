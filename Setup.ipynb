{
 "cells": [
  {
   "cell_type": "markdown",
   "metadata": {},
   "source": [
    "Setup required enviroment, it may take a few minutes."
   ]
  },
  {
   "cell_type": "code",
   "execution_count": 1,
   "metadata": {},
   "outputs": [
    {
     "name": "stdout",
     "output_type": "stream",
     "text": [
      "Loaded Muon-HAT-2022!\n"
     ]
    }
   ],
   "source": [
    "%%bash\n",
    "#!/bin/bash\n",
    "\n",
    "KERNEL_NAME=\"Muon-HAT-2022\"\n",
    "\n",
    "set -e\n",
    "\n",
    "source /etc/profile.d/modules.sh\n",
    "module --force purge\n",
    "#module spider conda\n",
    "module load anaconda/2021.05-py38\n",
    "\n",
    "# Create conda environment\n",
    "if [[ ! -d /depot/cms/private/data/Tutorial/Kernels/$KERNEL_NAME ]]; then\n",
    "    conda env create -f environment.yml --name $KERNEL_NAME\n",
    "fi\n",
    "conda activate /depot/cms/private/data/Tutorial/Kernels/$KERNEL_NAME\n",
    "\n",
    "# Make a wrapper script to load python\n",
    "if [[ ! -f python_wrapper.sh ]]; then\n",
    "cat << 'EOF' > python_wrapper.sh\n",
    "#!/bin/bash\n",
    "source /etc/profile.d/modules.sh\n",
    "module --force purge\n",
    "module load anaconda/2021.05-py38\n",
    "conda activate /depot/cms/private/data/Tutorial/Kernels/$KERNEL_NAME\n",
    "exec python3 \"$@\"\n",
    "EOF\n",
    "chmod +x python_wrapper.sh\n",
    "fi\n",
    "\n",
    "# Create the kernel\n",
    "if [[ ! -d $HOME/.local/share/jupyter/kernels/$KERNEL_NAME ]]; then\n",
    "mkdir -p \"$HOME/.local/share/jupyter/kernels/$KERNEL_NAME\"\n",
    "cat << EOF > \"$HOME/.local/share/jupyter/kernels/$KERNEL_NAME/kernel.json\"\n",
    "{\n",
    " \"display_name\": \"$KERNEL_NAME\", \n",
    " \"language\": \"python3\", \n",
    " \"argv\": [\n",
    "  \"$PWD/python_wrapper.sh\", \n",
    "  \"-m\", \n",
    "  \"ipykernel_launcher\", \n",
    "  \"-f\", \n",
    "  \"{connection_file}\"\n",
    " ]\n",
    "}\n",
    "EOF\n",
    "fi\n",
    "\n",
    "# Report OK\n",
    "echo \"Loaded $KERNEL_NAME!\""
   ]
  },
  {
   "cell_type": "code",
   "execution_count": null,
   "metadata": {
    "collapsed": true
   },
   "outputs": [],
   "source": []
  }
 ],
 "metadata": {
  "kernelspec": {
   "display_name": "Python 3",
   "language": "python",
   "name": "python3"
  },
  "language_info": {
   "codemirror_mode": {
    "name": "ipython",
    "version": 3
   },
   "file_extension": ".py",
   "mimetype": "text/x-python",
   "name": "python",
   "nbconvert_exporter": "python",
   "pygments_lexer": "ipython3",
   "version": "3.6.6"
  }
 },
 "nbformat": 4,
 "nbformat_minor": 4
}
