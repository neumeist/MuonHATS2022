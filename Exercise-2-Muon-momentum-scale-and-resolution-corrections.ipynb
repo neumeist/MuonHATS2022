{
 "cells": [
  {
   "cell_type": "markdown",
   "metadata": {},
   "source": [
    "The measurement of the muon transverse momentum of muons is sensitive to several detector conditions:\n",
    "   * the *alignment* of the tracker and of the muon chambers\n",
    "   * the *composition and distribution of the material* inside the tracking volume\n",
    "   * the knowledge of the *magnetic field* inside and outside the solenoid volume.\n",
    "<br>\n",
    "\n",
    "All these conditions affect differently the momentum measurement and can produce biases. In particular, the detector misalignment produces a relative bias that generally increases linearly with the momentum. For this reason it is extremely important to have an accurate knowledge of the tracker and muon spectrometer alignment, and a detailed mapping of the detector material and of the magnetic field. Residual biases can be corrected *a posteriori*, using calibration techniques that generally exploit data from very well-known processes, such as J/&psi;&rarr;&mu;&mu; or Z&rarr;&mu;&mu; decays."
   ]
  },
  {
   "cell_type": "code",
   "execution_count": null,
   "metadata": {
    "scrolled": true
   },
   "outputs": [],
   "source": [
    "import uproot\n",
    "import matplotlib.pyplot as plt\n",
    "import numpy as np\n",
    "import awkward as ak\n",
    "import vector\n",
    "vector.register_awkward()\n",
    "import ROOT"
   ]
  },
  {
   "cell_type": "code",
   "execution_count": null,
   "metadata": {
    "scrolled": true
   },
   "outputs": [],
   "source": [
    "file=uproot.open('/cms/store/user/hats/Muon/DYJetsToMuMu_M-50_TuneCP5_13TeV-madgraphMLM-pythia8.root')['Events']\n",
    "#file=uproot.open('~/Downloads/DYJetsToMuMu_M-50_TuneCP5_13TeV-madgraphMLM-pythia8.root')['Events']"
   ]
  },
  {
   "cell_type": "code",
   "execution_count": null,
   "metadata": {
    "scrolled": true
   },
   "outputs": [],
   "source": [
    "muon = ak.Array(ak.zip({\"muon_pt\":file[\"Muon_pt\"].array(),\n",
    "                        \"muon_eta\":file[\"Muon_eta\"].array(),\n",
    "                        \"muon_phi\":file[\"Muon_phi\"].array(),\n",
    "                        \"muon_isglobal\":file[\"Muon_isGlobal\"].array(),\n",
    "                        \"muon_istracker\":file[\"Muon_isTracker\"].array(),\n",
    "                        \"muon_mass\":file[\"Muon_mass\"].array(),\n",
    "                        \"muon_charge\":file[\"Muon_charge\"].array(),\n",
    "                        \"muon_pfreliso03_chg\":file[\"Muon_pfRelIso03_chg\"].array(),\n",
    "                        \"muon_ntrackerlayers\":file[\"Muon_nTrackerLayers\"].array(),\n",
    "                        \"muon_genpartidx\":file[\"Muon_genPartIdx\"].array(),\n",
    "                        \"genpart_pt\":file[\"GenPart_pt\"].array()[file[\"Muon_genPartIdx\"].array()],\n",
    "                        \"genpart_eta\":file[\"GenPart_eta\"].array()[file[\"Muon_genPartIdx\"].array()],\n",
    "                        \"genpart_phi\":file[\"GenPart_phi\"].array()[file[\"Muon_genPartIdx\"].array()],\n",
    "                        \"genpart_mass\":file[\"GenPart_mass\"].array()[file[\"Muon_genPartIdx\"].array()],\n",
    "                        \"genpart_pdgid\":file[\"GenPart_pdgId\"].array()[file[\"Muon_genPartIdx\"].array()],\n",
    "                        \"genpart_status\":file[\"GenPart_status\"].array()[file[\"Muon_genPartIdx\"].array()],\n",
    "                        \"genpart_statusFlags\":file[\"GenPart_statusFlags\"].array()[file[\"Muon_genPartIdx\"].array()]\n",
    "                       }))"
   ]
  },
  {
   "cell_type": "markdown",
   "metadata": {},
   "source": [
    "# Step 1: Generated and reconstructed dimuon Z mass\n",
    "First, lets reconstruct dimuon z mass.\n",
    "reapplying previous code. Using the following criteria to select two well-defined and isolated muons. For instance, you can require that both muons pass:<br>\n",
    "\n",
    "* Muon_genPartIdx!=-1(each muon must have an associated generated particle)\n",
    "* Muon_isGlobal==1\n",
    "* Muon_pt>20.\n",
    "* abs(Muon_eta)<2.4\n",
    "* Muon_pfRelIso03_chg<0.15"
   ]
  },
  {
   "cell_type": "code",
   "execution_count": null,
   "metadata": {
    "scrolled": true
   },
   "outputs": [],
   "source": [
    "muon_mask=(muon.genpart_pdgid!=-1)& (muon.muon_isglobal==1)& (muon.muon_pt>20)& (abs(muon.muon_eta)<2.4)& (muon.muon_pfreliso03_chg<0.15)"
   ]
  },
  {
   "cell_type": "code",
   "execution_count": null,
   "metadata": {
    "scrolled": true
   },
   "outputs": [],
   "source": [
    "muons_good=muon[muon_mask]"
   ]
  },
  {
   "cell_type": "code",
   "execution_count": null,
   "metadata": {
    "scrolled": true
   },
   "outputs": [],
   "source": [
    "ak.sum((ak.sum(muon_mask,axis=-1)==2))"
   ]
  },
  {
   "cell_type": "code",
   "execution_count": null,
   "metadata": {
    "scrolled": true
   },
   "outputs": [],
   "source": [
    "ak.sum((ak.sum(muon_mask,axis=-1)==3))"
   ]
  },
  {
   "cell_type": "code",
   "execution_count": null,
   "metadata": {
    "scrolled": true
   },
   "outputs": [],
   "source": [
    "ak.sum((ak.sum(muon_mask,axis=-1)==1))"
   ]
  },
  {
   "cell_type": "markdown",
   "metadata": {},
   "source": [
    "Note here if we write a for loop, then 94840 events are don't woth to loop over it. By using columnar method, they can be skipped"
   ]
  },
  {
   "cell_type": "code",
   "execution_count": null,
   "metadata": {
    "scrolled": true
   },
   "outputs": [],
   "source": [
    "ak.sum((ak.sum(muon_mask,axis=-1)==4))"
   ]
  },
  {
   "cell_type": "code",
   "execution_count": null,
   "metadata": {
    "scrolled": true
   },
   "outputs": [],
   "source": [
    "ak.sum((ak.sum(muon_mask,axis=-1)==5))"
   ]
  },
  {
   "cell_type": "code",
   "execution_count": null,
   "metadata": {
    "scrolled": true
   },
   "outputs": [],
   "source": [
    "ak.sum((ak.sum(muon_mask,axis=-1)==6))"
   ]
  },
  {
   "cell_type": "markdown",
   "metadata": {},
   "source": [
    "We only keep events with 2 good muons. There are 3 events with over 2 muons, we will ignore them for simplicity."
   ]
  },
  {
   "cell_type": "code",
   "execution_count": null,
   "metadata": {
    "scrolled": true
   },
   "outputs": [],
   "source": [
    "two_good_muons=muons_good[(ak.sum(muon_mask,axis=-1)==2)]"
   ]
  },
  {
   "cell_type": "code",
   "execution_count": null,
   "metadata": {
    "scrolled": true
   },
   "outputs": [],
   "source": [
    "two_good_muons.muon_charge"
   ]
  },
  {
   "cell_type": "markdown",
   "metadata": {},
   "source": [
    "Lets make sure muons in each event have opposite charge"
   ]
  },
  {
   "cell_type": "code",
   "execution_count": null,
   "metadata": {
    "scrolled": true
   },
   "outputs": [],
   "source": [
    "opposite_sign_muon_mask=(two_good_muons.muon_charge[:,0]!=two_good_muons.muon_charge[:,1])"
   ]
  },
  {
   "cell_type": "code",
   "execution_count": null,
   "metadata": {
    "scrolled": true
   },
   "outputs": [],
   "source": [
    "two_opposite_good_muons=two_good_muons[opposite_sign_muon_mask]\n",
    "ak.sum(opposite_sign_muon_mask)"
   ]
  },
  {
   "cell_type": "code",
   "execution_count": null,
   "metadata": {
    "scrolled": true
   },
   "outputs": [],
   "source": [
    "two_muon_p4 = ak.Array(ak.zip({\"pt\":two_opposite_good_muons.muon_pt, \n",
    "                               \"eta\":two_opposite_good_muons.muon_eta, \n",
    "                               \"phi\":two_opposite_good_muons.muon_phi, \n",
    "                               \"mass\":two_opposite_good_muons.muon_mass}), with_name=\"Momentum4D\")"
   ]
  },
  {
   "cell_type": "code",
   "execution_count": null,
   "metadata": {
    "scrolled": true
   },
   "outputs": [],
   "source": [
    "dimuon_p4= two_muon_p4[:,0] + two_muon_p4[:,1]"
   ]
  },
  {
   "cell_type": "markdown",
   "metadata": {},
   "source": [
    "We can further restrict the selection by requiring the invariant mass is between 70 and 110 GeV"
   ]
  },
  {
   "cell_type": "code",
   "execution_count": null,
   "metadata": {
    "scrolled": true
   },
   "outputs": [],
   "source": [
    "dimuon_mass_mask=(dimuon_p4.M>70)&(dimuon_p4.M<110)"
   ]
  },
  {
   "cell_type": "code",
   "execution_count": null,
   "metadata": {
    "scrolled": false
   },
   "outputs": [],
   "source": [
    "print (dimuon_p4[dimuon_mass_mask].mass)\n",
    "plt.figure(figsize=(9,6))\n",
    "plt.hist(dimuon_p4[dimuon_mass_mask].mass, bins=100, range=[40,140], histtype='step',linewidth=2, color='blue', label='dimuon invariant mass')\n",
    "plt.title('Dimuon Invariant Mass distribution')\n",
    "plt.xlabel('dimuon invariant mass [GeV]')\n",
    "plt.ylabel('Events')"
   ]
  },
  {
   "cell_type": "markdown",
   "metadata": {},
   "source": [
    "Now lets get their corresponding genpart and gen dimuon mass."
   ]
  },
  {
   "cell_type": "code",
   "execution_count": null,
   "metadata": {
    "scrolled": true
   },
   "outputs": [],
   "source": [
    "two_gen_muon_p4 = ak.Array(ak.zip({\"pt\":two_opposite_good_muons.genpart_pt, \n",
    "                               \"eta\":two_opposite_good_muons.genpart_eta, \n",
    "                               \"phi\":two_opposite_good_muons.genpart_phi, \n",
    "                               \"mass\":two_opposite_good_muons.genpart_mass}), with_name=\"Momentum4D\")\n",
    "two_gen_muon_p4.type"
   ]
  },
  {
   "cell_type": "code",
   "execution_count": null,
   "metadata": {
    "scrolled": true
   },
   "outputs": [],
   "source": [
    "gen_dimuon_p4=two_gen_muon_p4[:,0]+two_gen_muon_p4[:,1]"
   ]
  },
  {
   "cell_type": "code",
   "execution_count": null,
   "metadata": {
    "scrolled": false
   },
   "outputs": [],
   "source": [
    "plt.figure(figsize=(9,6))\n",
    "plt.hist(gen_dimuon_p4.mass, bins=100, range=[40,140], histtype='step', linewidth=2, color='blue', label='gen dimuon_mass')\n",
    "plt.title('Gen-level Dimuon Invariant Mass distribution')\n",
    "plt.xlabel('gen dimuon mass [GeV]')\n",
    "plt.ylabel('Events')"
   ]
  },
  {
   "cell_type": "markdown",
   "metadata": {},
   "source": [
    "Then, we fit both generated and reconstructed Z mass.<br>\n",
    "Keep in mind that the Z line shape is not Gaussian, so the Gaussian fit might not be perfect. We then fit them with more suitable functions for each case, e.g. a Breit-Wigner function for the generated mass and a Voigt function (i.e. a convolution of a Breit-Wigner with a Gaussian) for the reconstructed mass. You can easily do this from the ROOT e.g.:"
   ]
  },
  {
   "cell_type": "code",
   "execution_count": null,
   "metadata": {
    "scrolled": false
   },
   "outputs": [],
   "source": [
    "c1 = ROOT.TCanvas(\"gendimuonmass\",\"\",900,600)\n",
    "h_GenDiMuonM = ROOT.TH1F(\"h_GenDiMuonM\",\";m_{#mu^{+}#mu^{-}};\",80,70,110)\n",
    "for m in gen_dimuon_p4.mass:\n",
    "    h_GenDiMuonM.Fill(m)\n",
    "h_GenDiMuonM.Draw()\n",
    "c1.Draw()\n",
    "f2 = ROOT.TF1(\"f2\", \"[0]*TMath::BreitWigner(x, [1], [2])\", 86., 96.)\n",
    "f2.SetParameter(1, 91.1876)\n",
    "f2.SetParameter(2, 2.4952)\n",
    "h_GenDiMuonM.Fit(\"f2\", \"\", \"\", 86., 96.)\n",
    "ROOT.gStyle.SetOptFit(1111)\n",
    "c1.Draw()"
   ]
  },
  {
   "cell_type": "code",
   "execution_count": null,
   "metadata": {
    "scrolled": false
   },
   "outputs": [],
   "source": [
    "c2 = ROOT.TCanvas(\"recdimuonmass\",\"\",900,600)\n",
    "h_RecDiMuonM = ROOT.TH1F(\"h_RecDiMuonM\",\";m_{#mu^{+}#mu^{-}};\",80,70,110)\n",
    "for m in dimuon_p4.mass:\n",
    "    h_RecDiMuonM.Fill(m)\n",
    "h_RecDiMuonM.Draw()\n",
    "c2.Draw()\n",
    "f1 = ROOT.TF1(\"f1\", \"[0]*TMath::Voigt(x-[1], [2], [3])\", 86., 96.)\n",
    "f1.SetParameter(1, 91.1876)\n",
    "f1.SetParameter(3, 2.4952)\n",
    "h_RecDiMuonM.Fit(\"f1\", \"\", \"\", 86., 96.)\n",
    "ROOT.gStyle.SetOptFit(1111)\n",
    "c2.Draw()"
   ]
  },
  {
   "cell_type": "markdown",
   "metadata": {},
   "source": [
    "**Questions 1:**\n",
    "   * Compare the mean values obtained from the fits to the generated and reconstructed distributions. Are they compatible or do they differ significantly? How do they compare to the nominal Z mass value, m<sub>Z</sub> = 91.1876 GeV? Which distribution has the larger shift with respect to m<sub>Z</sub>?\n",
    "   * Compare the widths of the two distributions (GEN and RECO). Which one is larger? Can you explain why? \n",
    "   * Considering that the natural width of the Z boson is &Gamma;<sub>Z</sub> = 2.4952 GeV, can you roughly estimate the typical dimuon mass resolution of Z&rarr;&mu;&mu; events measured with the CMS detector?(*Note:* with a _Voigtian_ fit, you would get an estimate of the  mass resolution directly from the fit) \n",
    "   * Why do you need different functions to better fit the generated and reconstructed mass distributions? What differs between the two? If you had to fit the peak of a reconstructed J/&psi; instead, what function would you use, and why?\n",
    "\n"
   ]
  },
  {
   "cell_type": "markdown",
   "metadata": {},
   "source": [
    "# Step 2: Investigate the shape of the dimuon mass spectrum\n",
    "Next, we will create [TProfile histograms](http://root.cern.ch/root/html/TProfile.html) of the reconstructed dimuon invariant mass _vs_ azimuthal coordinate of the muon direction (&phi;), separately for positive and negative muons, as well as the dimuon mass _vs_ pseudorapidity (&eta;) of the muon. E.g.:"
   ]
  },
  {
   "cell_type": "code",
   "execution_count": null,
   "metadata": {
    "scrolled": true
   },
   "outputs": [],
   "source": [
    "prof_MuPlusPhiVsDiMuonM=ROOT.TProfile(\"prof_MuPlusPhivsDiMuonM\",\"#mu^{+} #phi vs m_{#mu^{+}#mu^{-}};Reco muon(+) #phi[rad]; Z peak position [GeV/c^2]\",16,-3.14,3.14,88,93)"
   ]
  },
  {
   "cell_type": "code",
   "execution_count": null,
   "metadata": {
    "scrolled": true
   },
   "outputs": [],
   "source": [
    "mup_phi=ak.flatten(two_opposite_good_muons.muon_phi[two_opposite_good_muons.muon_charge>0],axis=None)"
   ]
  },
  {
   "cell_type": "code",
   "execution_count": null,
   "metadata": {
    "scrolled": true
   },
   "outputs": [],
   "source": [
    "for phi, m in zip(mup_phi[dimuon_mass_mask], (dimuon_p4.mass)[dimuon_mass_mask]):\n",
    "   prof_MuPlusPhiVsDiMuonM.Fill(phi, m, 1)"
   ]
  },
  {
   "cell_type": "code",
   "execution_count": null,
   "metadata": {
    "scrolled": true
   },
   "outputs": [],
   "source": [
    "c3 = ROOT.TCanvas(\"mupphidimum\",\"\",900,600)\n",
    "prof_MuPlusPhiVsDiMuonM.Draw()"
   ]
  },
  {
   "cell_type": "code",
   "execution_count": null,
   "metadata": {
    "scrolled": false
   },
   "outputs": [],
   "source": [
    "c3.Draw()"
   ]
  },
  {
   "cell_type": "code",
   "execution_count": null,
   "metadata": {
    "scrolled": true
   },
   "outputs": [],
   "source": [
    "mum_phi=ak.flatten(two_opposite_good_muons.muon_phi[two_opposite_good_muons.muon_charge<0],axis=None)\n",
    "prof_MuMinusPhivsDiMuonM = ROOT.TProfile(\"prof_MuMinusPhivsDiMuonM\",\"#mu^{-} #phi vs m_{#mu^{+}#mu^{-}};Reco muon(-) #phi[rad];Z peak position [GeV/c^2]\",16,-3.14,3.14,88,93)"
   ]
  },
  {
   "cell_type": "code",
   "execution_count": null,
   "metadata": {
    "scrolled": true
   },
   "outputs": [],
   "source": [
    "for phi, m in zip(mum_phi[dimuon_mass_mask], (dimuon_p4.mass)[dimuon_mass_mask]):\n",
    "   prof_MuMinusPhivsDiMuonM.Fill(phi, m, 1)"
   ]
  },
  {
   "cell_type": "code",
   "execution_count": null,
   "metadata": {
    "scrolled": false
   },
   "outputs": [],
   "source": [
    "c4 = ROOT.TCanvas(\"mumphidimum\",\"\",900,600)\n",
    "prof_MuMinusPhivsDiMuonM.Draw()\n",
    "c4.Draw()"
   ]
  },
  {
   "cell_type": "code",
   "execution_count": null,
   "metadata": {
    "scrolled": true
   },
   "outputs": [],
   "source": [
    "prof_MuEtavsDiMuonM = ROOT.TProfile(\"prof_MuEtavsDiMuonM\",\"Muon #eta vs m_{#mu^{+}#mu^{-}};Reco Muon #eta; Z peak position [GeV/c^2]\",50,-2.4,2.4,88,93)"
   ]
  },
  {
   "cell_type": "code",
   "execution_count": null,
   "metadata": {
    "scrolled": true
   },
   "outputs": [],
   "source": [
    "for eta1, eta2, m in zip(two_opposite_good_muons[dimuon_mass_mask].muon_eta[:,0],\n",
    "                         two_opposite_good_muons[dimuon_mass_mask].muon_eta[:,0],\n",
    "                         dimuon_p4.mass[dimuon_mass_mask]):\n",
    "    prof_MuEtavsDiMuonM.Fill(eta1, m, 1)\n",
    "    prof_MuEtavsDiMuonM.Fill(eta2, m, 1)\n",
    "    "
   ]
  },
  {
   "cell_type": "code",
   "execution_count": null,
   "metadata": {
    "scrolled": false
   },
   "outputs": [],
   "source": [
    "c5 = ROOT.TCanvas(\"muetadimum\",\"\",900,600)\n",
    "prof_MuEtavsDiMuonM.Draw()\n",
    "c5.Draw()"
   ]
  },
  {
   "cell_type": "markdown",
   "metadata": {},
   "source": [
    "**Questions 2:**\n",
    "   * What do they look like? Is the reconstructed mass flat _vs_ &phi; and &eta; or are there deviations? \n",
    "   * Are the deviations compatible with statistical fluctuations or do you notice a trend? \n",
    "   * What could explain this behavior?\n"
   ]
  },
  {
   "cell_type": "markdown",
   "metadata": {},
   "source": [
    "# Step 3: Investigate the muon transverse momentum resolution"
   ]
  },
  {
   "cell_type": "markdown",
   "metadata": {},
   "source": [
    "Now we will study the muon transverse momentum resolution. We will consider distributions of the transverse momentum residuals, defined as  R(1/pT) = (1/pT<sup>REC</sup> &ndash; 1/pT<sup>GEN</sup>)/(1/pT<sup>GEN</sup>). In the ideal case, the distribution of the residuals is expected to be Gaussian and its standard deviation is the pT resolution. Likewise, we can define the dimuon invariant mass residuals as R(M) = (M<sup>REC</sup> &ndash; M<sup>GEN</sup>)/M<sup>GEN</sup>, and the standard deviation of the R(M) distribution defines the mass resolution. \n",
    "\n",
    "We will create the following histograms:\n",
    "   * 1D histogram of the muon transverse momentum residuals R(1/PT): A histogram (h_MupTRes) of the muon transverse momentum residual using the PAT muons and GEN muons. Fit this distribution to a Gaussian function. The fit parameter sigma gives the muon transverse momentum resolution in the chosen p<sub>T</sub> range.\n",
    "   * 1D histogram of the dimuon invariant mass residuals R(M): A histogram (h_MassRes) for the invariant mass resolution residual, which is defined as (M<sub>rec</sub> - M<sub>gen</sub> )/M<sub>gen</sub>. Fit this distribution to a Gaussian.\n",
    "   * Profile histograms (prof_MupTvspTRes and prof_MuEtavspTRes) of muon transverse momentum residuals  as a function of muon pT and &eta;.\n",
    "Note that, by default, a [TProfile](http://root.cern.ch/root/html/TProfile.html) will display in each bin the <span style='color:red'> mean value $\\pm$ mean value error </span> (i.e. RMS/$\\sqrt(N)$). Initializing the [TProfile](http://root.cern.ch/root/html/TProfile.html)  with option \"s\" instead, it will display <span style='color:red'> mean value $\\pm$ RMS </span>. This is more useful for us, as the RMS estimates the standard deviation, i.e. the resolution of each bin. "
   ]
  },
  {
   "cell_type": "code",
   "execution_count": null,
   "metadata": {
    "scrolled": false
   },
   "outputs": [],
   "source": [
    "pt_res=ak.flatten(two_opposite_good_muons.genpart_pt,axis=-1)/ak.flatten(two_opposite_good_muons.muon_pt,axis=-1)-1\n",
    "plt.figure(figsize=(9,6))\n",
    "plt.hist(pt_res, bins=100, range=[-0.25,0.25], histtype='step',linewidth=2, color='blue', label='$1/p_T$ residual')\n",
    "#plt.legend()\n",
    "plt.title('Distribution of $1/p_T$ residual')\n",
    "plt.xlabel('$1/p_T$ residual')\n",
    "plt.ylabel('Events')"
   ]
  },
  {
   "cell_type": "code",
   "execution_count": null,
   "metadata": {
    "scrolled": true
   },
   "outputs": [],
   "source": [
    "mass_res=ak.flatten(dimuon_p4.mass,axis=None)/ak.flatten(gen_dimuon_p4.mass,axis=None)-1"
   ]
  },
  {
   "cell_type": "code",
   "execution_count": null,
   "metadata": {
    "scrolled": false
   },
   "outputs": [],
   "source": [
    "plt.figure(figsize=(9,6))\n",
    "plt.hist(mass_res, bins=100, range=[-0.25,0.25], histtype='step', linewidth=2, color='blue', label='mass_residual')\n",
    "#plt.legend()\n",
    "plt.title('Mass residual')\n",
    "plt.xlabel('mass_residual')\n",
    "plt.ylabel('Events')"
   ]
  },
  {
   "cell_type": "code",
   "execution_count": null,
   "metadata": {
    "scrolled": false
   },
   "outputs": [],
   "source": [
    "c6 = ROOT.TCanvas(\"ptresidual\",\"\",900,600)\n",
    "h_MupTRes = ROOT.TH1F(\"h_MupTRes\",\"Muon p_{T} resolution;#Delta p_{T}/p_{T};\",80,-0.2,0.2)\n",
    "for res in pt_res:\n",
    "    h_MupTRes.Fill(res)\n",
    "h_MupTRes.Draw()\n",
    "c6.Draw()\n",
    "h_MupTRes.Fit(\"gaus\")"
   ]
  },
  {
   "cell_type": "code",
   "execution_count": null,
   "metadata": {
    "scrolled": false
   },
   "outputs": [],
   "source": [
    "c7 = ROOT.TCanvas(\"massresidual\",\"\",900,600)\n",
    "h_MassRes = ROOT.TH1F(\"h_MassRes\",\"Mass Resolution Residual\",80,-0.15,0.15)\n",
    "for res in mass_res:\n",
    "    h_MassRes.Fill(res)\n",
    "h_MassRes.Draw()\n",
    "c7.Draw()\n",
    "h_MassRes.Fit(\"gaus\")"
   ]
  },
  {
   "cell_type": "code",
   "execution_count": null,
   "metadata": {
    "scrolled": false
   },
   "outputs": [],
   "source": [
    "prof_MuEtavspTRes = ROOT.TProfile(\"prof_MuEtavspTRes\",\";Gen Muon #eta;#Delta p_{T}/p_{T}\",50,-2.4,2.4,0,1,'s')\n",
    "for ptres, eta in zip(pt_res, ak.flatten(two_gen_muon_p4.eta,axis=None)):\n",
    "    prof_MuEtavspTRes.Fill(eta, ptres, 1)\n",
    "c8 = ROOT.TCanvas(\"muetavsptres\",\"\",900,600)\n",
    "prof_MuEtavspTRes.Draw()\n",
    "c8.Draw()"
   ]
  },
  {
   "cell_type": "code",
   "execution_count": null,
   "metadata": {
    "scrolled": false
   },
   "outputs": [],
   "source": [
    "prof_MupTvspTRes = ROOT.TProfile(\"prof_MupTvspTRes\",\";Gen Muon p_{T} [GeV];#Delta p_{T}/p_{T}\",25,20,100,0,1,'s')\n",
    "for ptres, pt in zip(pt_res, ak.flatten(two_gen_muon_p4.pt,axis=None)):\n",
    "    prof_MupTvspTRes.Fill(pt, ptres, 1)\n",
    "c9 = ROOT.TCanvas(\"muptvsptres\",\"\",900,600)\n",
    "prof_MupTvspTRes.Draw()\n",
    "c9.Draw()"
   ]
  },
  {
   "cell_type": "markdown",
   "metadata": {},
   "source": [
    "**Questions 3**:\n",
    "* What is the typical 1/pT resolution of a 50 GeV muon measured in the CMS detector?\n",
    "* How does the 1/pT resolution scale with transverse momentum? And with the pseudorapidity?\n",
    "* Why is the mass residual not a perfect Gaussian distribution?\n",
    "* How is the 1/pT resolution related to the invariant mass resolution?"
   ]
  },
  {
   "cell_type": "markdown",
   "metadata": {},
   "source": [
    "# Step 4: Momentum scale corrections"
   ]
  },
  {
   "cell_type": "markdown",
   "metadata": {},
   "source": [
    "As mentioned in the introduction, small biases in the muon momentum measurement can be recovered by applying specific corrections. In CMS we have several algorithms to compute such corrections to the momentum scale and/or resolution. They are documented in this MUO POG [TWiki page](https://twiki.cern.ch/twiki/bin/view/CMS/MuonReferenceScaleResolRun2). In the following, we will demonstrate the use of one of these correction strategies, called _Rochester algorithm_. The details of the algorithm and how it computes the corrections are beyond the goals of this exercise. Suffice it to say that it extracts correction factors by \"forcing\" muons from (mostly) Z&rarr;&mu;&mu; decays to coincide with reference distributions obtained from Monte Carlo generated muons. For more details, check out  [EPJC V72, 10.2194 (2012)](https://link.springer.com/article/10.1140%2Fepjc%2Fs10052-012-2194-8) [arXiv:1208.3710](https://arxiv.org/abs/1208.3710) or the link above.\n"
   ]
  },
  {
   "cell_type": "markdown",
   "metadata": {},
   "source": [
    "First download the rochester method python(RoccoR.py) implemetnion from GitHub, which is used in UWCMS final state analysis"
   ]
  },
  {
   "cell_type": "code",
   "execution_count": null,
   "metadata": {
    "scrolled": false
   },
   "outputs": [],
   "source": [
    "import os\n",
    "os.system('wget https://raw.githubusercontent.com/uwcms/FinalStateAnalysis/d4fa28eecdb41575039b6cb760dd11604f796a4b/PatTools/python/RoccoR.py')"
   ]
  },
  {
   "cell_type": "code",
   "execution_count": null,
   "metadata": {},
   "outputs": [],
   "source": [
    "import RoccoR"
   ]
  },
  {
   "cell_type": "markdown",
   "metadata": {},
   "source": [
    "Loading the 2018 run II correction file"
   ]
  },
  {
   "cell_type": "code",
   "execution_count": null,
   "metadata": {
    "scrolled": true
   },
   "outputs": [],
   "source": [
    "rc=RoccoR.RoccoR('/cms/store/user/hats/Muon/RoccoR2018.txt')\n",
    "#rc=RoccoR.RoccoR('RoccoR2018.txt')"
   ]
  },
  {
   "cell_type": "code",
   "execution_count": null,
   "metadata": {
    "scrolled": true
   },
   "outputs": [],
   "source": [
    "random=np.random.rand(len(ak.flatten(muon.muon_eta)))"
   ]
  },
  {
   "cell_type": "code",
   "execution_count": null,
   "metadata": {
    "scrolled": true
   },
   "outputs": [],
   "source": [
    "two_opposite_good_muons.muon_pt"
   ]
  },
  {
   "cell_type": "code",
   "execution_count": null,
   "metadata": {
    "scrolled": true
   },
   "outputs": [],
   "source": [
    "rnd=ROOT.TRandom3(1234)"
   ]
  },
  {
   "cell_type": "markdown",
   "metadata": {},
   "source": [
    "Now, write a loop to correct each muon one by one, and then repeat step 2 and 3"
   ]
  },
  {
   "cell_type": "code",
   "execution_count": null,
   "metadata": {
    "scrolled": true
   },
   "outputs": [],
   "source": [
    "cor_pt=[]\n",
    "cor_eta=[]\n",
    "cor_phi=[]\n",
    "for row in two_opposite_good_muons:\n",
    "    cor_pt_1=[]\n",
    "    cor_eta_1=[]\n",
    "    cor_phi_1=[]\n",
    "    for charge, pt, eta, phi, ntracker, genpt  in zip(row.muon_charge, row.muon_pt, row.muon_eta, row.muon_phi, row.muon_ntrackerlayers, row.genpart_pt):\n",
    "        musf=rc.kScaleFromGenMC(charge, pt, eta, phi, ntracker, genpt, rnd.Rndm(), 0, 0)\n",
    "        cor_pt_1.append(pt*musf)\n",
    "        cor_eta_1.append(eta*musf)\n",
    "        cor_phi_1.append(phi*musf)\n",
    "    cor_pt.append(cor_pt_1)\n",
    "    cor_eta.append(cor_eta_1)\n",
    "    cor_phi.append(cor_phi_1)        "
   ]
  },
  {
   "cell_type": "code",
   "execution_count": null,
   "metadata": {
    "scrolled": true
   },
   "outputs": [],
   "source": [
    "scaled_two_opposite_good_muons=ak.Array(ak.zip({\"muon_pt\": ak.Array(cor_pt), \n",
    "                                                  \"muon_eta\": ak.Array(cor_eta),\n",
    "                                                  \"muon_phi\": ak.Array(cor_phi),\n",
    "                                                  \"muon_mass\": two_opposite_good_muons.muon_mass,\n",
    "                                                  \"muon_charge\": two_opposite_good_muons.muon_charge,\n",
    "                                                  \"genpart_pt\": two_opposite_good_muons.genpart_pt,\n",
    "                                                  \"genpart_eta\": two_opposite_good_muons.genpart_eta,\n",
    "                                                  \"genpart_phi\": two_opposite_good_muons.genpart_phi,\n",
    "                                                  \"genpart_mass\": two_opposite_good_muons.genpart_mass,}))\n",
    "scaled_two_opposite_good_muons"
   ]
  },
  {
   "cell_type": "code",
   "execution_count": null,
   "metadata": {
    "scrolled": true
   },
   "outputs": [],
   "source": [
    "uncorrected_two_opposite_good_muons= two_opposite_good_muons\n",
    "two_opposite_good_muons=scaled_two_opposite_good_muons"
   ]
  },
  {
   "cell_type": "code",
   "execution_count": null,
   "metadata": {
    "scrolled": true
   },
   "outputs": [],
   "source": [
    "two_muon_p4 = ak.Array(ak.zip({\"pt\":two_opposite_good_muons.muon_pt, \n",
    "                               \"eta\":two_opposite_good_muons.muon_eta, \n",
    "                               \"phi\":two_opposite_good_muons.muon_phi, \n",
    "                               \"mass\":two_opposite_good_muons.muon_mass}), with_name=\"Momentum4D\")"
   ]
  },
  {
   "cell_type": "code",
   "execution_count": null,
   "metadata": {
    "scrolled": true
   },
   "outputs": [],
   "source": [
    "dimuon_p4=two_muon_p4[:,0]+two_muon_p4[:,1]\n",
    "#dimuon_p4.mass"
   ]
  },
  {
   "cell_type": "code",
   "execution_count": null,
   "metadata": {
    "scrolled": true
   },
   "outputs": [],
   "source": [
    "dimuon_mass_mask=(dimuon_p4.mass>70)&(dimuon_p4.mass<110)"
   ]
  },
  {
   "cell_type": "code",
   "execution_count": null,
   "metadata": {
    "scrolled": true
   },
   "outputs": [],
   "source": [
    "plt.figure(figsize=(9,6))\n",
    "plt.hist(dimuon_p4.mass[dimuon_mass_mask], bins=100, range=[40,140], histtype='step',linewidth=2, color='blue', label='dimuon invariant mass')\n",
    "plt.title('Dimuon Invariant Mass distribution')\n",
    "plt.xlabel('dimuon invariant mass [GeV]')\n",
    "plt.ylabel('Events')"
   ]
  },
  {
   "cell_type": "markdown",
   "metadata": {},
   "source": [
    "Now lets get their corresponding genpart and gen dimuon mass."
   ]
  },
  {
   "cell_type": "code",
   "execution_count": null,
   "metadata": {
    "scrolled": true
   },
   "outputs": [],
   "source": [
    "two_gen_muon_p4 = ak.Array(ak.zip({\"pt\":two_opposite_good_muons.genpart_pt, \n",
    "                               \"eta\":two_opposite_good_muons.genpart_eta, \n",
    "                               \"phi\":two_opposite_good_muons.genpart_phi, \n",
    "                               \"mass\":two_opposite_good_muons.genpart_mass}), with_name=\"Momentum4D\")"
   ]
  },
  {
   "cell_type": "code",
   "execution_count": null,
   "metadata": {
    "scrolled": true
   },
   "outputs": [],
   "source": [
    "gen_dimuon_p4=two_gen_muon_p4[:,0]+two_gen_muon_p4[:,1]"
   ]
  },
  {
   "cell_type": "code",
   "execution_count": null,
   "metadata": {
    "scrolled": true
   },
   "outputs": [],
   "source": [
    "gen_dimuon_p4.mass"
   ]
  },
  {
   "cell_type": "code",
   "execution_count": null,
   "metadata": {
    "scrolled": true
   },
   "outputs": [],
   "source": [
    "plt.figure(figsize=(9,6))\n",
    "plt.hist(gen_dimuon_p4.mass, bins=100, range=[40,140], histtype='step', linewidth=2, color='blue', label='gen dimuon_mass')\n",
    "#plt.legend()\n",
    "plt.title('Gen-level Dimuon Invariant Mass distribution')\n",
    "plt.xlabel('gen dimuon mass [GeV]')\n",
    "plt.ylabel('Events')"
   ]
  },
  {
   "cell_type": "code",
   "execution_count": null,
   "metadata": {
    "scrolled": true
   },
   "outputs": [],
   "source": [
    "c10 = ROOT.TCanvas(\"gendimuonmass\",\"\",900,600)\n",
    "h_GenDiMuonM = ROOT.TH1F(\"h_GenDiMuonM\",\";m_{#mu^{+}#mu^{-}};\",80,70,110)\n",
    "for m in gen_dimuon_p4.mass:\n",
    "    h_GenDiMuonM.Fill(m)\n",
    "h_GenDiMuonM.Draw()\n",
    "c10.Draw()\n",
    "f2 = ROOT.TF1(\"f2\", \"[0]*TMath::BreitWigner(x, [1], [2])\", 86., 96.)\n",
    "f2.SetParameter(1, 91.1876)\n",
    "f2.SetParameter(2, 2.4952)\n",
    "h_GenDiMuonM.Fit(\"f2\", \"\", \"\", 86., 96.)\n",
    "ROOT.gStyle.SetOptFit(1111)\n",
    "c10.Draw()"
   ]
  },
  {
   "cell_type": "code",
   "execution_count": null,
   "metadata": {
    "scrolled": false
   },
   "outputs": [],
   "source": [
    "c11 = ROOT.TCanvas(\"recdimuonmass\",\"\",900,600)\n",
    "h_RecDiMuonM = ROOT.TH1F(\"h_RecDiMuonM\",\";m_{#mu^{+}#mu^{-}};\",80,70,110)\n",
    "for m in dimuon_p4.mass:\n",
    "    h_RecDiMuonM.Fill(m)\n",
    "h_RecDiMuonM.Draw()\n",
    "c11.Draw()\n",
    "f1 = ROOT.TF1(\"f1\", \"[0]*TMath::Voigt(x-[1], [2], [3])\", 86., 96.)\n",
    "f1.SetParameter(1, 91.1876)\n",
    "f1.SetParameter(3, 2.4952)\n",
    "h_RecDiMuonM.Fit(\"f1\", \"\", \"\", 86., 96.)\n",
    "ROOT.gStyle.SetOptFit(1111)\n",
    "c11.Draw()\n",
    "#h_RecDiMuonM.Fit(\"gaus\",\"\",\"\", 86., 96.)"
   ]
  },
  {
   "cell_type": "code",
   "execution_count": null,
   "metadata": {
    "scrolled": true
   },
   "outputs": [],
   "source": [
    "prof_MuPlusPhiVsDiMuonM=ROOT.TProfile(\"prof_MuPlusPhivsDiMuonM\",\"#mu^{+} #phi vs m_{#mu^{+}#mu^{-}};Reco muon(+) #phi[rad]; Z peak position [GeV/c^2]\",16,-3.14,3.14,88,93)"
   ]
  },
  {
   "cell_type": "code",
   "execution_count": null,
   "metadata": {
    "scrolled": true
   },
   "outputs": [],
   "source": [
    "mup_phi=ak.flatten(two_opposite_good_muons.muon_phi[two_opposite_good_muons.muon_charge>0])"
   ]
  },
  {
   "cell_type": "code",
   "execution_count": null,
   "metadata": {
    "scrolled": true
   },
   "outputs": [],
   "source": [
    "for phi, m in zip(mup_phi[dimuon_mass_mask], (dimuon_p4.mass)[dimuon_mass_mask]):\n",
    "   prof_MuPlusPhiVsDiMuonM.Fill(phi, m, 1)"
   ]
  },
  {
   "cell_type": "code",
   "execution_count": null,
   "metadata": {
    "scrolled": true
   },
   "outputs": [],
   "source": [
    "c12 = ROOT.TCanvas(\"mupphidimum\",\"\",900,600)\n",
    "prof_MuPlusPhiVsDiMuonM.Draw()"
   ]
  },
  {
   "cell_type": "code",
   "execution_count": null,
   "metadata": {
    "scrolled": true
   },
   "outputs": [],
   "source": [
    "c12.Draw()"
   ]
  },
  {
   "cell_type": "code",
   "execution_count": null,
   "metadata": {
    "scrolled": true
   },
   "outputs": [],
   "source": [
    "mum_phi=two_opposite_good_muons.muon_phi[two_opposite_good_muons.muon_charge<0].flatten()\n",
    "prof_MuMinusPhivsDiMuonM = ROOT.TProfile(\"prof_MuMinusPhivsDiMuonM\",\"#mu^{-} #phi vs m_{#mu^{+}#mu^{-}};Reco muon(-) #phi[rad];Z peak position [GeV/c^2]\",16,-3.14,3.14,88,93)"
   ]
  },
  {
   "cell_type": "code",
   "execution_count": null,
   "metadata": {
    "scrolled": true
   },
   "outputs": [],
   "source": [
    "for phi, m in zip(mum_phi[dimuon_mass_mask], (dimuon_p4.mass)[dimuon_mass_mask]):\n",
    "   prof_MuMinusPhivsDiMuonM.Fill(phi, m, 1)"
   ]
  },
  {
   "cell_type": "code",
   "execution_count": null,
   "metadata": {
    "scrolled": true
   },
   "outputs": [],
   "source": [
    "c13 = ROOT.TCanvas(\"mumphidimum\",\"\",900,600)\n",
    "prof_MuMinusPhivsDiMuonM.Draw()\n",
    "c13.Draw()"
   ]
  },
  {
   "cell_type": "code",
   "execution_count": null,
   "metadata": {
    "scrolled": true
   },
   "outputs": [],
   "source": [
    "prof_MuEtavsDiMuonM = ROOT.TProfile(\"prof_MuEtavsDiMuonM\",\"Muon #eta vs m_{#mu^{+}#mu^{-}};Reco Muon #eta; Z peak position [GeV/c^2]\",50,-2.4,2.4,88,93)"
   ]
  },
  {
   "cell_type": "code",
   "execution_count": null,
   "metadata": {
    "scrolled": true
   },
   "outputs": [],
   "source": [
    "for eta1, eta2, m in zip(two_opposite_good_muons[dimuon_mass_mask].muon_eta[:,0],\n",
    "                         two_opposite_good_muons[dimuon_mass_mask].muon_eta[:,0],\n",
    "                         dimuon_p4.mass[dimuon_mass_mask]):\n",
    "    prof_MuEtavsDiMuonM.Fill(eta1, m, 1)\n",
    "    prof_MuEtavsDiMuonM.Fill(eta2, m, 1)\n",
    "    "
   ]
  },
  {
   "cell_type": "code",
   "execution_count": null,
   "metadata": {
    "scrolled": true
   },
   "outputs": [],
   "source": [
    "c14 = ROOT.TCanvas(\"muetadimum\",\"\",900,600)\n",
    "prof_MuEtavsDiMuonM.Draw()\n",
    "c14.Draw()"
   ]
  },
  {
   "cell_type": "code",
   "execution_count": null,
   "metadata": {
    "scrolled": false
   },
   "outputs": [],
   "source": [
    "pt_res=ak.flatten(two_opposite_good_muons.genpart_pt)/ak.flatten(two_opposite_good_muons.muon_pt)-1\n",
    "plt.figure(figsize=(9,6))\n",
    "plt.hist(pt_res, bins=100, range=[-0.25,0.25], histtype='step',linewidth=2, color='blue', label='$1/p_T$ residual')\n",
    "#plt.legend()\n",
    "plt.title('Distribution of $1/p_T$ residual')\n",
    "plt.xlabel('$1/p_T$ residual')\n",
    "plt.ylabel('Events')"
   ]
  },
  {
   "cell_type": "code",
   "execution_count": null,
   "metadata": {
    "scrolled": true
   },
   "outputs": [],
   "source": [
    "mass_res=ak.flatten(dimuon_p4.mass,axis=None)/ak.flatten(gen_dimuon_p4.mass,axis=None)-1"
   ]
  },
  {
   "cell_type": "code",
   "execution_count": null,
   "metadata": {
    "scrolled": false
   },
   "outputs": [],
   "source": [
    "plt.figure(figsize=(9,6))\n",
    "plt.hist(mass_res, bins=100, range=[-0.25,0.25], histtype='step', linewidth=2, color='blue', label='mass_residual')\n",
    "#plt.legend()\n",
    "plt.title('Mass residual')\n",
    "plt.xlabel('mass_residual')\n",
    "plt.ylabel('Events')"
   ]
  },
  {
   "cell_type": "code",
   "execution_count": null,
   "metadata": {
    "scrolled": false
   },
   "outputs": [],
   "source": [
    "c16 = ROOT.TCanvas(\"ptresidual\",\"\",900,600)\n",
    "h_MupTRes = ROOT.TH1F(\"h_MupTRes\",\"Muon p_{T} resolution;#Delta p_{T}/p_{T};\",80,-0.2,0.2)\n",
    "for res in pt_res:\n",
    "    h_MupTRes.Fill(res)\n",
    "h_MupTRes.Draw()\n",
    "c16.Draw()\n",
    "h_MupTRes.Fit(\"gaus\")"
   ]
  },
  {
   "cell_type": "code",
   "execution_count": null,
   "metadata": {
    "scrolled": false
   },
   "outputs": [],
   "source": [
    "c17 = ROOT.TCanvas(\"massresidual\",\"\",900,600)\n",
    "h_MassRes = ROOT.TH1F(\"h_MassRes\",\"Mass Resolution Residual\",80,-0.15,0.15)\n",
    "for res in mass_res:\n",
    "    h_MassRes.Fill(res)\n",
    "h_MassRes.Draw()\n",
    "c17.Draw()\n",
    "h_MassRes.Fit(\"gaus\")"
   ]
  },
  {
   "cell_type": "code",
   "execution_count": null,
   "metadata": {
    "scrolled": false
   },
   "outputs": [],
   "source": [
    "prof_MuEtavspTRes = ROOT.TProfile(\"prof_MuEtavspTRes\",\";Gen Muon #eta;#Delta p_{T}/p_{T}\",50,-2.4,2.4,0,1,'s')\n",
    "for ptres, eta in zip(pt_res, ak.flatten(two_gen_muon_p4.eta)):\n",
    "    prof_MuEtavspTRes.Fill(eta, ptres, 1)\n",
    "c18 = ROOT.TCanvas(\"muetavsptres\",\"\",900,600)\n",
    "prof_MuEtavspTRes.Draw()\n",
    "c18.Draw()"
   ]
  },
  {
   "cell_type": "code",
   "execution_count": null,
   "metadata": {
    "scrolled": false
   },
   "outputs": [],
   "source": [
    "prof_MupTvspTRes = ROOT.TProfile(\"prof_MupTvspTRes\",\";Gen Muon p_{T} [GeV];#Delta p_{T}/p_{T}\",25,20,100,0,1,'s')\n",
    "for ptres, pt in zip(pt_res, ak.flatten(two_gen_muon_p4.pt)):\n",
    "    prof_MupTvspTRes.Fill(pt, ptres, 1)\n",
    "c19 = ROOT.TCanvas(\"muptvsptres\",\"\",900,600)\n",
    "prof_MupTvspTRes.Draw()\n",
    "c19.Draw()"
   ]
  },
  {
   "cell_type": "markdown",
   "metadata": {
    "scrolled": false
   },
   "source": [
    "**Questions 4:**\n",
    "   * Describe the main differences that you observe between the uncorrected and corrected distributions. \n",
    "   * Does the corrected mass spectrum get closer to the generated mass spectrum, and the peak closer to the PDG value? \n",
    "   * Do the corrections help restore a flat distribution of the dimuon mass _vs_ &phi; and &eta;? \n",
    "   * How did the resolution change after the corrections? How would you explain it? "
   ]
  },
  {
   "cell_type": "code",
   "execution_count": null,
   "metadata": {},
   "outputs": [],
   "source": []
  }
 ],
 "metadata": {
  "kernelspec": {
   "display_name": "Muon-HAT-2020",
   "language": "python3",
   "name": "muon-hat-2020"
  },
  "language_info": {
   "codemirror_mode": {
    "name": "ipython",
    "version": 3
   },
   "file_extension": ".py",
   "mimetype": "text/x-python",
   "name": "python",
   "nbconvert_exporter": "python",
   "pygments_lexer": "ipython3",
   "version": "3.8.10"
  }
 },
 "nbformat": 4,
 "nbformat_minor": 4
}
